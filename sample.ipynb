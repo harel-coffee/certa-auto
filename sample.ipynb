{
 "cells": [
  {
   "cell_type": "code",
   "execution_count": 44,
   "metadata": {},
   "outputs": [],
   "source": [
    "import numpy as np\n",
    "import pandas as pd\n",
    "from certa.eval import expl_eval\n",
    "from certa.explain import explain\n",
    "from certa.utils import merge_sources\n",
    "from models.utils import from_type"
   ]
  },
  {
   "cell_type": "code",
   "execution_count": 45,
   "metadata": {
    "pycharm": {
     "name": "#%%\n"
    }
   },
   "outputs": [
    {
     "name": "stdout",
     "output_type": "stream",
     "text": [
      "* Costruzione indice degli embeddings.....Fatto. 400001 embeddings totali.\n",
      "* Creazione del modello per il calcolo degli embeddings....\n",
      "* Inizializzo il tokenizzatore.....Fatto: 400001 parole totali.\n",
      "* Preparazione della matrice di embedding.....Fatto. Dimensioni matrice embeddings: (400002, 50)\n",
      "\n",
      "°°° EMBEDDING MODEL °°°\n",
      "Model: \"model_2\"\n",
      "__________________________________________________________________________________________________\n",
      "Layer (type)                    Output Shape         Param #     Connected to                     \n",
      "==================================================================================================\n",
      "Tupla_A (InputLayer)            [(None, None)]       0                                            \n",
      "__________________________________________________________________________________________________\n",
      "Tupla_B (InputLayer)            [(None, None)]       0                                            \n",
      "__________________________________________________________________________________________________\n",
      "Embedding_lookup (Embedding)    (None, None, 50)     20000100    Tupla_A[0][0]                    \n",
      "                                                                 Tupla_B[0][0]                    \n",
      "==================================================================================================\n",
      "Total params: 20,000,100\n",
      "Trainable params: 0\n",
      "Non-trainable params: 20,000,100\n",
      "__________________________________________________________________________________________________\n",
      "\n",
      "°°° DeepER Model °°°\n",
      "Model: \"model_3\"\n",
      "__________________________________________________________________________________________________\n",
      "Layer (type)                    Output Shape         Param #     Connected to                     \n",
      "==================================================================================================\n",
      "Embeddings_seq_a (InputLayer)   [(None, None, 50)]   0                                            \n",
      "__________________________________________________________________________________________________\n",
      "Embeddings_seq_b (InputLayer)   [(None, None, 50)]   0                                            \n",
      "__________________________________________________________________________________________________\n",
      "Composition (Bidirectional)     (None, 300)          241200      Embeddings_seq_a[0][0]           \n",
      "                                                                 Embeddings_seq_b[0][0]           \n",
      "__________________________________________________________________________________________________\n",
      "Similarity (Lambda)             (None, 300)          0           Composition[0][0]                \n",
      "                                                                 Composition[1][0]                \n",
      "__________________________________________________________________________________________________\n",
      "Dense1 (Dense)                  (None, 300)          90300       Similarity[0][0]                 \n",
      "__________________________________________________________________________________________________\n",
      "Dense2 (Dense)                  (None, 300)          90300       Dense1[0][0]                     \n",
      "__________________________________________________________________________________________________\n",
      "Classification (Dense)          (None, 2)            602         Dense2[0][0]                     \n",
      "==================================================================================================\n",
      "Total params: 422,402\n",
      "Trainable params: 422,402\n",
      "Non-trainable params: 0\n",
      "__________________________________________________________________________________________________\n"
     ]
    },
    {
     "data": {
      "text/plain": [
       "<models.DeepER.DeepERModel at 0x7f38e8159f98>"
      ]
     },
     "execution_count": 45,
     "metadata": {},
     "output_type": "execute_result"
    }
   ],
   "source": [
    "dataset = 'amazon_google'\n",
    "model_type = 'deeper'\n",
    "model = from_type(model_type)\n",
    "model.load('models/' + model_type + '/' + dataset)"
   ]
  },
  {
   "cell_type": "code",
   "execution_count": 46,
   "metadata": {
    "pycharm": {
     "name": "#%%\n"
    }
   },
   "outputs": [],
   "source": [
    "def predict_fn(x):\n",
    "    return model.predict(x)"
   ]
  },
  {
   "cell_type": "code",
   "execution_count": 47,
   "metadata": {
    "pycharm": {
     "name": "#%%\n"
    }
   },
   "outputs": [],
   "source": [
    "datadir = 'datasets/' + dataset\n",
    "lsource = pd.read_csv(datadir + '/tableA.csv')\n",
    "rsource = pd.read_csv(datadir + '/tableB.csv')\n",
    "gt = pd.read_csv(datadir + '/train.csv')\n",
    "valid = pd.read_csv(datadir + '/valid.csv')\n",
    "test = pd.read_csv(datadir + '/test.csv')"
   ]
  },
  {
   "cell_type": "code",
   "execution_count": 49,
   "metadata": {
    "pycharm": {
     "name": "#%%\n"
    }
   },
   "outputs": [],
   "source": [
    "test_df = merge_sources(test, 'ltable_', 'rtable_', lsource, rsource, ['label'], [])"
   ]
  },
  {
   "cell_type": "code",
   "execution_count": 108,
   "metadata": {
    "pycharm": {
     "name": "#%%\n"
    }
   },
   "outputs": [
    {
     "data": {
      "text/plain": [
       "label                                           1\n",
       "ltable_id                                      22\n",
       "ltable_manufacturer    global-software-publishing\n",
       "ltable_price                                 9.99\n",
       "ltable_title            musicalis guitar workshop\n",
       "Name: 46, dtype: object"
      ]
     },
     "execution_count": 108,
     "metadata": {},
     "output_type": "execute_result"
    }
   ],
   "source": [
    "idx = 46\n",
    "rand_row = test_df.iloc[idx]\n",
    "l_id = int(rand_row['ltable_id'])\n",
    "l_tuple = lsource.iloc[l_id]\n",
    "r_id = int(rand_row['rtable_id'])\n",
    "r_tuple = rsource.iloc[r_id]\n",
    "rand_row.head()"
   ]
  },
  {
   "cell_type": "code",
   "execution_count": 109,
   "metadata": {
    "pycharm": {
     "name": "#%%\n"
    }
   },
   "outputs": [
    {
     "data": {
      "text/plain": [
       "id                                      22\n",
       "title            musicalis guitar workshop\n",
       "manufacturer    global-software-publishing\n",
       "price                                 9.99\n",
       "Name: 22, dtype: object"
      ]
     },
     "execution_count": 109,
     "metadata": {},
     "output_type": "execute_result"
    }
   ],
   "source": [
    "l_tuple"
   ]
  },
  {
   "cell_type": "code",
   "execution_count": 110,
   "metadata": {
    "pycharm": {
     "name": "#%%\n"
    }
   },
   "outputs": [
    {
     "data": {
      "text/plain": [
       "id                                             1435\n",
       "title           musicalis universal guitar workshop\n",
       "manufacturer             global-software-publishing\n",
       "price                                          12.9\n",
       "Name: 1435, dtype: object"
      ]
     },
     "execution_count": 110,
     "metadata": {},
     "output_type": "execute_result"
    }
   ],
   "source": [
    "r_tuple"
   ]
  },
  {
   "cell_type": "code",
   "execution_count": 111,
   "metadata": {},
   "outputs": [],
   "source": [
    "num_triangles = 100\n",
    "fast = False\n",
    "max_predict = -1"
   ]
  },
  {
   "cell_type": "code",
   "execution_count": 112,
   "metadata": {
    "pycharm": {
     "name": "#%%\n"
    }
   },
   "outputs": [],
   "source": [
    "saliency_df, cf_summary, counterfactual_examples, triangles = explain(l_tuple, r_tuple, lsource, rsource, \n",
    "                                                                      predict_fn, datadir, \n",
    "                                                                      num_triangles=num_triangles,\n",
    "                                                                      fast=fast, max_predict=max_predict)"
   ]
  },
  {
   "cell_type": "code",
   "execution_count": 113,
   "metadata": {},
   "outputs": [
    {
     "data": {
      "text/plain": [
       "{'rtable_price': {0: 0.23275862068965517},\n",
       " 'rtable_manufacturer': {0: 0.15517241379310345},\n",
       " 'rtable_title': {0: 0.04310344827586207},\n",
       " 'ltable_title': {0: 0.02586206896551724},\n",
       " 'ltable_manufacturer': {0: 0.014367816091954023},\n",
       " 'ltable_price': {0: 0.014367816091954023}}"
      ]
     },
     "execution_count": 113,
     "metadata": {},
     "output_type": "execute_result"
    }
   ],
   "source": [
    "saliency_df.to_dict()"
   ]
  },
  {
   "cell_type": "code",
   "execution_count": 114,
   "metadata": {},
   "outputs": [
    {
     "data": {
      "text/plain": [
       "rtable_manufacturer/rtable_price    0.517241\n",
       "dtype: float64"
      ]
     },
     "execution_count": 114,
     "metadata": {},
     "output_type": "execute_result"
    }
   ],
   "source": [
    "cf_summary"
   ]
  },
  {
   "cell_type": "code",
   "execution_count": 115,
   "metadata": {
    "pycharm": {
     "name": "#%%\n"
    },
    "scrolled": true
   },
   "outputs": [
    {
     "data": {
      "text/html": [
       "<div>\n",
       "<style scoped>\n",
       "    .dataframe tbody tr th:only-of-type {\n",
       "        vertical-align: middle;\n",
       "    }\n",
       "\n",
       "    .dataframe tbody tr th {\n",
       "        vertical-align: top;\n",
       "    }\n",
       "\n",
       "    .dataframe thead th {\n",
       "        text-align: right;\n",
       "    }\n",
       "</style>\n",
       "<table border=\"1\" class=\"dataframe\">\n",
       "  <thead>\n",
       "    <tr style=\"text-align: right;\">\n",
       "      <th></th>\n",
       "      <th>ltable_title</th>\n",
       "      <th>ltable_manufacturer</th>\n",
       "      <th>ltable_price</th>\n",
       "      <th>rtable_title</th>\n",
       "      <th>rtable_manufacturer</th>\n",
       "      <th>rtable_price</th>\n",
       "      <th>alteredAttributes</th>\n",
       "      <th>droppedValues</th>\n",
       "      <th>copiedValues</th>\n",
       "      <th>nomatch_score</th>\n",
       "      <th>match_score</th>\n",
       "      <th>attr_count</th>\n",
       "    </tr>\n",
       "  </thead>\n",
       "  <tbody>\n",
       "    <tr>\n",
       "      <th>0</th>\n",
       "      <td>musicalis guitar workshop</td>\n",
       "      <td>global-software-publishing</td>\n",
       "      <td>9.99</td>\n",
       "      <td>musicalis universal guitar workshop</td>\n",
       "      <td>global-software-publishing</td>\n",
       "      <td>1562.06</td>\n",
       "      <td>(rtable_price,)</td>\n",
       "      <td>[12.9]</td>\n",
       "      <td>[1562.06]</td>\n",
       "      <td>0.437370</td>\n",
       "      <td>0.562630</td>\n",
       "      <td>2</td>\n",
       "    </tr>\n",
       "    <tr>\n",
       "      <th>65</th>\n",
       "      <td>musicalis guitar workshop</td>\n",
       "      <td>global-software-publishing</td>\n",
       "      <td>9.99</td>\n",
       "      <td>musicalis universal guitar workshop</td>\n",
       "      <td>NaN</td>\n",
       "      <td>21.99</td>\n",
       "      <td>(rtable_manufacturer, rtable_price)</td>\n",
       "      <td>[global-software-publishing, 12.9]</td>\n",
       "      <td>[nan, 21.99]</td>\n",
       "      <td>0.281680</td>\n",
       "      <td>0.718320</td>\n",
       "      <td>2</td>\n",
       "    </tr>\n",
       "    <tr>\n",
       "      <th>64</th>\n",
       "      <td>musicalis guitar workshop</td>\n",
       "      <td>global-software-publishing</td>\n",
       "      <td>9.99</td>\n",
       "      <td>musicalis universal guitar workshop</td>\n",
       "      <td>global-software-publishing</td>\n",
       "      <td>21.99</td>\n",
       "      <td>(rtable_price,)</td>\n",
       "      <td>[12.9]</td>\n",
       "      <td>[21.99]</td>\n",
       "      <td>0.388520</td>\n",
       "      <td>0.611480</td>\n",
       "      <td>2</td>\n",
       "    </tr>\n",
       "    <tr>\n",
       "      <th>62</th>\n",
       "      <td>musicalis guitar workshop</td>\n",
       "      <td>global-software-publishing</td>\n",
       "      <td>9.99</td>\n",
       "      <td>musicalis universal guitar workshop</td>\n",
       "      <td>NaN</td>\n",
       "      <td>44.99</td>\n",
       "      <td>(rtable_manufacturer, rtable_price)</td>\n",
       "      <td>[global-software-publishing, 12.9]</td>\n",
       "      <td>[nan, 44.99]</td>\n",
       "      <td>0.307953</td>\n",
       "      <td>0.692047</td>\n",
       "      <td>2</td>\n",
       "    </tr>\n",
       "    <tr>\n",
       "      <th>61</th>\n",
       "      <td>musicalis guitar workshop</td>\n",
       "      <td>global-software-publishing</td>\n",
       "      <td>9.99</td>\n",
       "      <td>musicalis universal guitar workshop</td>\n",
       "      <td>global-software-publishing</td>\n",
       "      <td>44.99</td>\n",
       "      <td>(rtable_price,)</td>\n",
       "      <td>[12.9]</td>\n",
       "      <td>[44.99]</td>\n",
       "      <td>0.396448</td>\n",
       "      <td>0.603552</td>\n",
       "      <td>2</td>\n",
       "    </tr>\n",
       "    <tr>\n",
       "      <th>...</th>\n",
       "      <td>...</td>\n",
       "      <td>...</td>\n",
       "      <td>...</td>\n",
       "      <td>...</td>\n",
       "      <td>...</td>\n",
       "      <td>...</td>\n",
       "      <td>...</td>\n",
       "      <td>...</td>\n",
       "      <td>...</td>\n",
       "      <td>...</td>\n",
       "      <td>...</td>\n",
       "      <td>...</td>\n",
       "    </tr>\n",
       "    <tr>\n",
       "      <th>18</th>\n",
       "      <td>musicalis guitar workshop</td>\n",
       "      <td>global-software-publishing</td>\n",
       "      <td>9.99</td>\n",
       "      <td>allume anime studio 5</td>\n",
       "      <td>NaN</td>\n",
       "      <td>44.99</td>\n",
       "      <td>(rtable_title, rtable_manufacturer, rtable_price)</td>\n",
       "      <td>[musicalis universal guitar workshop, global-s...</td>\n",
       "      <td>[allume anime studio 5, nan, 44.99]</td>\n",
       "      <td>0.325786</td>\n",
       "      <td>0.674214</td>\n",
       "      <td>3</td>\n",
       "    </tr>\n",
       "    <tr>\n",
       "      <th>69</th>\n",
       "      <td>musicalis guitar workshop</td>\n",
       "      <td>global-software-publishing</td>\n",
       "      <td>9.99</td>\n",
       "      <td>emedia music corp emedia piano &amp; keyboard method</td>\n",
       "      <td>NaN</td>\n",
       "      <td>49.21</td>\n",
       "      <td>(rtable_title, rtable_manufacturer, rtable_price)</td>\n",
       "      <td>[musicalis universal guitar workshop, global-s...</td>\n",
       "      <td>[emedia music corp emedia piano &amp; keyboard met...</td>\n",
       "      <td>0.178296</td>\n",
       "      <td>0.821704</td>\n",
       "      <td>3</td>\n",
       "    </tr>\n",
       "    <tr>\n",
       "      <th>63</th>\n",
       "      <td>musicalis guitar workshop</td>\n",
       "      <td>global-software-publishing</td>\n",
       "      <td>9.99</td>\n",
       "      <td>allume anime studio 5</td>\n",
       "      <td>NaN</td>\n",
       "      <td>44.99</td>\n",
       "      <td>(rtable_title, rtable_manufacturer, rtable_price)</td>\n",
       "      <td>[musicalis universal guitar workshop, global-s...</td>\n",
       "      <td>[allume anime studio 5, nan, 44.99]</td>\n",
       "      <td>0.325786</td>\n",
       "      <td>0.674214</td>\n",
       "      <td>3</td>\n",
       "    </tr>\n",
       "    <tr>\n",
       "      <th>9</th>\n",
       "      <td>musicalis guitar workshop</td>\n",
       "      <td>global-software-publishing</td>\n",
       "      <td>9.99</td>\n",
       "      <td>fogware hyb art dvd</td>\n",
       "      <td>NaN</td>\n",
       "      <td>21.99</td>\n",
       "      <td>(rtable_title, rtable_manufacturer, rtable_price)</td>\n",
       "      <td>[musicalis universal guitar workshop, global-s...</td>\n",
       "      <td>[fogware hyb art dvd, nan, 21.99]</td>\n",
       "      <td>0.318725</td>\n",
       "      <td>0.681275</td>\n",
       "      <td>3</td>\n",
       "    </tr>\n",
       "    <tr>\n",
       "      <th>44</th>\n",
       "      <td>axis network camera 213 ptz digital video came...</td>\n",
       "      <td>axis-communication-inc .</td>\n",
       "      <td>NaN</td>\n",
       "      <td>musicalis universal guitar workshop</td>\n",
       "      <td>global-software-publishing</td>\n",
       "      <td>12.90</td>\n",
       "      <td>(ltable_title, ltable_manufacturer, ltable_price)</td>\n",
       "      <td>[musicalis guitar workshop, global-software-pu...</td>\n",
       "      <td>[axis network camera 213 ptz digital video cam...</td>\n",
       "      <td>0.322866</td>\n",
       "      <td>0.677134</td>\n",
       "      <td>3</td>\n",
       "    </tr>\n",
       "  </tbody>\n",
       "</table>\n",
       "<p>92 rows × 12 columns</p>\n",
       "</div>"
      ],
      "text/plain": [
       "                                         ltable_title  \\\n",
       "0                           musicalis guitar workshop   \n",
       "65                          musicalis guitar workshop   \n",
       "64                          musicalis guitar workshop   \n",
       "62                          musicalis guitar workshop   \n",
       "61                          musicalis guitar workshop   \n",
       "..                                                ...   \n",
       "18                          musicalis guitar workshop   \n",
       "69                          musicalis guitar workshop   \n",
       "63                          musicalis guitar workshop   \n",
       "9                           musicalis guitar workshop   \n",
       "44  axis network camera 213 ptz digital video came...   \n",
       "\n",
       "           ltable_manufacturer  ltable_price  \\\n",
       "0   global-software-publishing          9.99   \n",
       "65  global-software-publishing          9.99   \n",
       "64  global-software-publishing          9.99   \n",
       "62  global-software-publishing          9.99   \n",
       "61  global-software-publishing          9.99   \n",
       "..                         ...           ...   \n",
       "18  global-software-publishing          9.99   \n",
       "69  global-software-publishing          9.99   \n",
       "63  global-software-publishing          9.99   \n",
       "9   global-software-publishing          9.99   \n",
       "44    axis-communication-inc .           NaN   \n",
       "\n",
       "                                        rtable_title  \\\n",
       "0                musicalis universal guitar workshop   \n",
       "65               musicalis universal guitar workshop   \n",
       "64               musicalis universal guitar workshop   \n",
       "62               musicalis universal guitar workshop   \n",
       "61               musicalis universal guitar workshop   \n",
       "..                                               ...   \n",
       "18                             allume anime studio 5   \n",
       "69  emedia music corp emedia piano & keyboard method   \n",
       "63                             allume anime studio 5   \n",
       "9                                fogware hyb art dvd   \n",
       "44               musicalis universal guitar workshop   \n",
       "\n",
       "           rtable_manufacturer  rtable_price  \\\n",
       "0   global-software-publishing       1562.06   \n",
       "65                         NaN         21.99   \n",
       "64  global-software-publishing         21.99   \n",
       "62                         NaN         44.99   \n",
       "61  global-software-publishing         44.99   \n",
       "..                         ...           ...   \n",
       "18                         NaN         44.99   \n",
       "69                         NaN         49.21   \n",
       "63                         NaN         44.99   \n",
       "9                          NaN         21.99   \n",
       "44  global-software-publishing         12.90   \n",
       "\n",
       "                                    alteredAttributes  \\\n",
       "0                                     (rtable_price,)   \n",
       "65                (rtable_manufacturer, rtable_price)   \n",
       "64                                    (rtable_price,)   \n",
       "62                (rtable_manufacturer, rtable_price)   \n",
       "61                                    (rtable_price,)   \n",
       "..                                                ...   \n",
       "18  (rtable_title, rtable_manufacturer, rtable_price)   \n",
       "69  (rtable_title, rtable_manufacturer, rtable_price)   \n",
       "63  (rtable_title, rtable_manufacturer, rtable_price)   \n",
       "9   (rtable_title, rtable_manufacturer, rtable_price)   \n",
       "44  (ltable_title, ltable_manufacturer, ltable_price)   \n",
       "\n",
       "                                        droppedValues  \\\n",
       "0                                              [12.9]   \n",
       "65                 [global-software-publishing, 12.9]   \n",
       "64                                             [12.9]   \n",
       "62                 [global-software-publishing, 12.9]   \n",
       "61                                             [12.9]   \n",
       "..                                                ...   \n",
       "18  [musicalis universal guitar workshop, global-s...   \n",
       "69  [musicalis universal guitar workshop, global-s...   \n",
       "63  [musicalis universal guitar workshop, global-s...   \n",
       "9   [musicalis universal guitar workshop, global-s...   \n",
       "44  [musicalis guitar workshop, global-software-pu...   \n",
       "\n",
       "                                         copiedValues  nomatch_score  \\\n",
       "0                                           [1562.06]       0.437370   \n",
       "65                                       [nan, 21.99]       0.281680   \n",
       "64                                            [21.99]       0.388520   \n",
       "62                                       [nan, 44.99]       0.307953   \n",
       "61                                            [44.99]       0.396448   \n",
       "..                                                ...            ...   \n",
       "18                [allume anime studio 5, nan, 44.99]       0.325786   \n",
       "69  [emedia music corp emedia piano & keyboard met...       0.178296   \n",
       "63                [allume anime studio 5, nan, 44.99]       0.325786   \n",
       "9                   [fogware hyb art dvd, nan, 21.99]       0.318725   \n",
       "44  [axis network camera 213 ptz digital video cam...       0.322866   \n",
       "\n",
       "    match_score  attr_count  \n",
       "0      0.562630           2  \n",
       "65     0.718320           2  \n",
       "64     0.611480           2  \n",
       "62     0.692047           2  \n",
       "61     0.603552           2  \n",
       "..          ...         ...  \n",
       "18     0.674214           3  \n",
       "69     0.821704           3  \n",
       "63     0.674214           3  \n",
       "9      0.681275           3  \n",
       "44     0.677134           3  \n",
       "\n",
       "[92 rows x 12 columns]"
      ]
     },
     "execution_count": 115,
     "metadata": {},
     "output_type": "execute_result"
    }
   ],
   "source": [
    "counterfactual_examples"
   ]
  }
 ],
 "metadata": {
  "kernelspec": {
   "display_name": "Python 3",
   "language": "python",
   "name": "python3"
  },
  "language_info": {
   "codemirror_mode": {
    "name": "ipython",
    "version": 3
   },
   "file_extension": ".py",
   "mimetype": "text/x-python",
   "name": "python",
   "nbconvert_exporter": "python",
   "pygments_lexer": "ipython3",
   "version": "3.6.8"
  }
 },
 "nbformat": 4,
 "nbformat_minor": 4
}
