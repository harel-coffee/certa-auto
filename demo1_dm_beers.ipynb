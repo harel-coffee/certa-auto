{
 "cells": [
  {
   "cell_type": "code",
   "execution_count": 1,
   "metadata": {
    "colab": {
     "base_uri": "https://localhost:8080/"
    },
    "id": "_rjaliCDWgJk",
    "outputId": "30a683b7-fabc-4355-bc49-718d194675dd"
   },
   "outputs": [
    {
     "name": "stderr",
     "output_type": "stream",
     "text": [
      "[nltk_data] Downloading package punkt to /home/tteofili/nltk_data...\n",
      "[nltk_data]   Package punkt is already up-to-date!\n"
     ]
    }
   ],
   "source": [
    "import os\n",
    "import traceback\n",
    "import random\n",
    "\n",
    "import pandas as pd\n",
    "from certa.explain import CertaExplainer\n",
    "from certa.local_explain import get_original_prediction, get_row\n",
    "from certa.utils import merge_sources\n",
    "\n",
    "from baselines.landmark import Landmark\n",
    "from baselines.mojito import Mojito\n",
    "import shap\n",
    "import dice_ml\n",
    "\n",
    "import pandas as pd\n",
    "from certa.explain import CertaExplainer\n",
    "from models.utils import from_type\n",
    "import numpy as np\n",
    "\n",
    "import json\n",
    "import warnings\n",
    "\n",
    "import nltk\n",
    "nltk.download('punkt')\n",
    "\n",
    "warnings.filterwarnings(\"ignore\")\n",
    "pd.options.display.max_colwidth = 100\n",
    "\n",
    "from IPython.display import display\n",
    "from IPython.display import Image\n",
    "\n",
    "import graphviz\n",
    "import pydotplus"
   ]
  },
  {
   "cell_type": "code",
   "execution_count": 2,
   "metadata": {},
   "outputs": [
    {
     "data": {
      "text/html": [
       "<div>\n",
       "<style scoped>\n",
       "    .dataframe tbody tr th:only-of-type {\n",
       "        vertical-align: middle;\n",
       "    }\n",
       "\n",
       "    .dataframe tbody tr th {\n",
       "        vertical-align: top;\n",
       "    }\n",
       "\n",
       "    .dataframe thead th {\n",
       "        text-align: right;\n",
       "    }\n",
       "</style>\n",
       "<table border=\"1\" class=\"dataframe\">\n",
       "  <thead>\n",
       "    <tr style=\"text-align: right;\">\n",
       "      <th></th>\n",
       "      <th>Unnamed: 0</th>\n",
       "      <th>ltable_Beer_Name</th>\n",
       "      <th>ltable_Brew_Factory_Name</th>\n",
       "      <th>ltable_Style</th>\n",
       "      <th>ltable_ABV</th>\n",
       "      <th>rtable_Beer_Name</th>\n",
       "      <th>rtable_Brew_Factory_Name</th>\n",
       "      <th>rtable_Style</th>\n",
       "      <th>rtable_ABV</th>\n",
       "      <th>nomatch_score</th>\n",
       "      <th>match_score</th>\n",
       "      <th>alteredAttributes</th>\n",
       "      <th>droppedValues</th>\n",
       "      <th>copiedValues</th>\n",
       "      <th>triangle</th>\n",
       "    </tr>\n",
       "  </thead>\n",
       "  <tbody>\n",
       "    <tr>\n",
       "      <th>0</th>\n",
       "      <td>0</td>\n",
       "      <td>Bulleit Bourbon Barrel Aged G'Knight</td>\n",
       "      <td>Oskar Blues Grill &amp; Brew</td>\n",
       "      <td>American Amber / Red Ale</td>\n",
       "      <td>8.70 %</td>\n",
       "      <td>Healthy</td>\n",
       "      <td>Figure Eight Brewing</td>\n",
       "      <td>Barley Wine</td>\n",
       "      <td>-</td>\n",
       "      <td>0.297096</td>\n",
       "      <td>0.702904</td>\n",
       "      <td>('rtable_Beer_Name',)</td>\n",
       "      <td>['Figure Eight Bourbon Barrel Aged Jumbo Love']</td>\n",
       "      <td>['Healthy']</td>\n",
       "      <td>1@10507 0@1219 1@2470</td>\n",
       "    </tr>\n",
       "    <tr>\n",
       "      <th>1</th>\n",
       "      <td>1</td>\n",
       "      <td>Bulleit Bourbon Barrel Aged G'Knight</td>\n",
       "      <td>Oskar Blues Grill &amp; Brew</td>\n",
       "      <td>American Amber / Red Ale</td>\n",
       "      <td>8.70 %</td>\n",
       "      <td>Figure Eight Bourbon Barrel Aged Jumbo Love</td>\n",
       "      <td>Healthy Brew</td>\n",
       "      <td>Barley Wine</td>\n",
       "      <td>-</td>\n",
       "      <td>0.942687</td>\n",
       "      <td>0.057313</td>\n",
       "      <td>('rtable_Brew_Factory_Name',)</td>\n",
       "      <td>['Figure Eight Brewing']</td>\n",
       "      <td>['Healthy Brew']</td>\n",
       "      <td>1@10507 0@1219 1@2470</td>\n",
       "    </tr>\n",
       "    <tr>\n",
       "      <th>2</th>\n",
       "      <td>2</td>\n",
       "      <td>Bulleit Bourbon Barrel Aged G'Knight</td>\n",
       "      <td>Oskar Blues Grill &amp; Brew</td>\n",
       "      <td>American Amber / Red Ale</td>\n",
       "      <td>8.70 %</td>\n",
       "      <td>Figure Eight Bourbon Barrel Aged Jumbo Love</td>\n",
       "      <td>Figure Eight Brewing</td>\n",
       "      <td>Amber Ale</td>\n",
       "      <td>-</td>\n",
       "      <td>0.946805</td>\n",
       "      <td>0.053195</td>\n",
       "      <td>('rtable_Style',)</td>\n",
       "      <td>['Barley Wine']</td>\n",
       "      <td>['Amber Ale']</td>\n",
       "      <td>1@10507 0@1219 1@2470</td>\n",
       "    </tr>\n",
       "    <tr>\n",
       "      <th>3</th>\n",
       "      <td>3</td>\n",
       "      <td>Bulleit Bourbon Barrel Aged G'Knight</td>\n",
       "      <td>Oskar Blues Grill &amp; Brew</td>\n",
       "      <td>American Amber / Red Ale</td>\n",
       "      <td>8.70 %</td>\n",
       "      <td>Figure Eight Bourbon Barrel Aged Jumbo Love</td>\n",
       "      <td>Figure Eight Brewing</td>\n",
       "      <td>Barley Wine</td>\n",
       "      <td>-</td>\n",
       "      <td>0.943421</td>\n",
       "      <td>0.056579</td>\n",
       "      <td>('rtable_ABV',)</td>\n",
       "      <td>['-']</td>\n",
       "      <td>['-']</td>\n",
       "      <td>1@10507 0@1219 1@2470</td>\n",
       "    </tr>\n",
       "    <tr>\n",
       "      <th>4</th>\n",
       "      <td>4</td>\n",
       "      <td>Wave</td>\n",
       "      <td>Oskar Blues Grill &amp; Brew</td>\n",
       "      <td>American Amber / Red Ale</td>\n",
       "      <td>8.70 %</td>\n",
       "      <td>Figure Eight Bourbon Barrel Aged Jumbo Love</td>\n",
       "      <td>Figure Eight Brewing</td>\n",
       "      <td>Barley Wine</td>\n",
       "      <td>-</td>\n",
       "      <td>0.367473</td>\n",
       "      <td>0.632527</td>\n",
       "      <td>('ltable_Beer_Name',)</td>\n",
       "      <td>[\"Bulleit Bourbon Barrel Aged G'Knight\"]</td>\n",
       "      <td>['Wave']</td>\n",
       "      <td>0@57766 1@2470 0@1219</td>\n",
       "    </tr>\n",
       "  </tbody>\n",
       "</table>\n",
       "</div>"
      ],
      "text/plain": [
       "   Unnamed: 0                      ltable_Beer_Name  ltable_Brew_Factory_Name  \\\n",
       "0           0  Bulleit Bourbon Barrel Aged G'Knight  Oskar Blues Grill & Brew   \n",
       "1           1  Bulleit Bourbon Barrel Aged G'Knight  Oskar Blues Grill & Brew   \n",
       "2           2  Bulleit Bourbon Barrel Aged G'Knight  Oskar Blues Grill & Brew   \n",
       "3           3  Bulleit Bourbon Barrel Aged G'Knight  Oskar Blues Grill & Brew   \n",
       "4           4                                  Wave  Oskar Blues Grill & Brew   \n",
       "\n",
       "               ltable_Style ltable_ABV  \\\n",
       "0  American Amber / Red Ale     8.70 %   \n",
       "1  American Amber / Red Ale     8.70 %   \n",
       "2  American Amber / Red Ale     8.70 %   \n",
       "3  American Amber / Red Ale     8.70 %   \n",
       "4  American Amber / Red Ale     8.70 %   \n",
       "\n",
       "                              rtable_Beer_Name rtable_Brew_Factory_Name  \\\n",
       "0                                      Healthy     Figure Eight Brewing   \n",
       "1  Figure Eight Bourbon Barrel Aged Jumbo Love             Healthy Brew   \n",
       "2  Figure Eight Bourbon Barrel Aged Jumbo Love     Figure Eight Brewing   \n",
       "3  Figure Eight Bourbon Barrel Aged Jumbo Love     Figure Eight Brewing   \n",
       "4  Figure Eight Bourbon Barrel Aged Jumbo Love     Figure Eight Brewing   \n",
       "\n",
       "  rtable_Style rtable_ABV  nomatch_score  match_score  \\\n",
       "0  Barley Wine          -       0.297096     0.702904   \n",
       "1  Barley Wine          -       0.942687     0.057313   \n",
       "2    Amber Ale          -       0.946805     0.053195   \n",
       "3  Barley Wine          -       0.943421     0.056579   \n",
       "4  Barley Wine          -       0.367473     0.632527   \n",
       "\n",
       "               alteredAttributes  \\\n",
       "0          ('rtable_Beer_Name',)   \n",
       "1  ('rtable_Brew_Factory_Name',)   \n",
       "2              ('rtable_Style',)   \n",
       "3                ('rtable_ABV',)   \n",
       "4          ('ltable_Beer_Name',)   \n",
       "\n",
       "                                     droppedValues      copiedValues  \\\n",
       "0  ['Figure Eight Bourbon Barrel Aged Jumbo Love']       ['Healthy']   \n",
       "1                         ['Figure Eight Brewing']  ['Healthy Brew']   \n",
       "2                                  ['Barley Wine']     ['Amber Ale']   \n",
       "3                                            ['-']             ['-']   \n",
       "4         [\"Bulleit Bourbon Barrel Aged G'Knight\"]          ['Wave']   \n",
       "\n",
       "                triangle  \n",
       "0  1@10507 0@1219 1@2470  \n",
       "1  1@10507 0@1219 1@2470  \n",
       "2  1@10507 0@1219 1@2470  \n",
       "3  1@10507 0@1219 1@2470  \n",
       "4  0@57766 1@2470 0@1219  "
      ]
     },
     "execution_count": 2,
     "metadata": {},
     "output_type": "execute_result"
    }
   ],
   "source": [
    "pred_df = pd.read_csv('predictions.csv')\n",
    "pred_df.head()"
   ]
  },
  {
   "cell_type": "code",
   "execution_count": 3,
   "metadata": {},
   "outputs": [],
   "source": [
    "gbo = pred_df.groupby('triangle')"
   ]
  },
  {
   "cell_type": "code",
   "execution_count": 4,
   "metadata": {},
   "outputs": [],
   "source": [
    "triangle_ids = list(gbo.groups.keys())"
   ]
  },
  {
   "cell_type": "code",
   "execution_count": null,
   "metadata": {},
   "outputs": [],
   "source": []
  },
  {
   "cell_type": "code",
   "execution_count": null,
   "metadata": {},
   "outputs": [],
   "source": []
  },
  {
   "cell_type": "code",
   "execution_count": null,
   "metadata": {},
   "outputs": [],
   "source": []
  },
  {
   "cell_type": "code",
   "execution_count": null,
   "metadata": {
    "id": "YXJcH5UIWivo"
   },
   "outputs": [],
   "source": []
  },
  {
   "cell_type": "code",
   "execution_count": null,
   "metadata": {
    "colab": {
     "base_uri": "https://localhost:8080/"
    },
    "id": "Ahp70PX3Wo5Z",
    "outputId": "536456de-f9a7-427a-ea70-698fc0c69e3b"
   },
   "outputs": [],
   "source": []
  },
  {
   "cell_type": "code",
   "execution_count": null,
   "metadata": {
    "colab": {
     "base_uri": "https://localhost:8080/"
    },
    "id": "hyWDwk6bWsnY",
    "outputId": "8154322b-d3f2-469a-f6ed-446ef08addcd"
   },
   "outputs": [],
   "source": []
  },
  {
   "cell_type": "code",
   "execution_count": null,
   "metadata": {
    "id": "BHqy4jDmXyjd"
   },
   "outputs": [],
   "source": []
  },
  {
   "cell_type": "code",
   "execution_count": 5,
   "metadata": {
    "id": "pF_Tf1WWedPN"
   },
   "outputs": [],
   "source": [
    "import seaborn as sns\n",
    "cm = sns.light_palette(\"blue\", as_cmap=True)"
   ]
  },
  {
   "cell_type": "code",
   "execution_count": 6,
   "metadata": {
    "id": "dNJlSjENW23C"
   },
   "outputs": [],
   "source": [
    "root_datadir = '../cheapER/datasets/'\n",
    "experiments_dir = 'examples/'\n",
    "dataset = 'beers'\n",
    "datadir = os.path.join(root_datadir, dataset)"
   ]
  },
  {
   "cell_type": "code",
   "execution_count": 7,
   "metadata": {
    "id": "ymVWUKZ6W6Ae"
   },
   "outputs": [],
   "source": [
    "lsource = pd.read_csv(datadir + '/tableA.csv')\n",
    "rsource = pd.read_csv(datadir + '/tableB.csv')\n",
    "gt = pd.read_csv(datadir + '/train.csv')\n",
    "valid = pd.read_csv(datadir + '/valid.csv')\n",
    "test = pd.read_csv(datadir + '/test.csv')\n",
    "\n",
    "test_df = merge_sources(test, 'ltable_', 'rtable_', lsource, rsource, ['label'], [])\n",
    "valid_df = merge_sources(valid, 'ltable_', 'rtable_', lsource, rsource, ['label'], [])\n",
    "train_df = merge_sources(gt, 'ltable_', 'rtable_', lsource, rsource, ['label'], ['id'])"
   ]
  },
  {
   "cell_type": "code",
   "execution_count": 8,
   "metadata": {
    "id": "VP9zfQDfW6YC"
   },
   "outputs": [],
   "source": [
    "model_type = 'dm'\n",
    "model = from_type(model_type)\n",
    "save_path = 'models/saved/' + model_type + '/beers'\n",
    "model.load(save_path)"
   ]
  },
  {
   "cell_type": "code",
   "execution_count": 9,
   "metadata": {
    "id": "K2UHi6yOW_Hy"
   },
   "outputs": [],
   "source": [
    "def predict_fn(x):\n",
    "    return model.predict(x)\n",
    "def predict_fn_mojito(x):\n",
    "    return model.predict(x, mojito=True)"
   ]
  },
  {
   "cell_type": "code",
   "execution_count": 10,
   "metadata": {
    "colab": {
     "base_uri": "https://localhost:8080/",
     "height": 659
    },
    "id": "iPLoynwpW_fg",
    "outputId": "bbbbe476-69cc-48b0-94f3-c3b937df6a21"
   },
   "outputs": [
    {
     "data": {
      "text/html": [
       "<div>\n",
       "<style scoped>\n",
       "    .dataframe tbody tr th:only-of-type {\n",
       "        vertical-align: middle;\n",
       "    }\n",
       "\n",
       "    .dataframe tbody tr th {\n",
       "        vertical-align: top;\n",
       "    }\n",
       "\n",
       "    .dataframe thead th {\n",
       "        text-align: right;\n",
       "    }\n",
       "</style>\n",
       "<table border=\"1\" class=\"dataframe\">\n",
       "  <thead>\n",
       "    <tr style=\"text-align: right;\">\n",
       "      <th></th>\n",
       "      <th>label</th>\n",
       "      <th>ltable_ABV</th>\n",
       "      <th>ltable_Beer_Name</th>\n",
       "      <th>ltable_Brew_Factory_Name</th>\n",
       "      <th>ltable_Style</th>\n",
       "      <th>ltable_id</th>\n",
       "      <th>rtable_ABV</th>\n",
       "      <th>rtable_Beer_Name</th>\n",
       "      <th>rtable_Brew_Factory_Name</th>\n",
       "      <th>rtable_Style</th>\n",
       "      <th>rtable_id</th>\n",
       "      <th>nomatch_score</th>\n",
       "      <th>match_score</th>\n",
       "    </tr>\n",
       "  </thead>\n",
       "  <tbody>\n",
       "    <tr>\n",
       "      <th>0</th>\n",
       "      <td>0</td>\n",
       "      <td>8.70 %</td>\n",
       "      <td>Bulleit Bourbon Barrel Aged G'Knight</td>\n",
       "      <td>Oskar Blues Grill &amp; Brew</td>\n",
       "      <td>American Amber / Red Ale</td>\n",
       "      <td>1219.0</td>\n",
       "      <td>-</td>\n",
       "      <td>Figure Eight Bourbon Barrel Aged Jumbo Love</td>\n",
       "      <td>Figure Eight Brewing</td>\n",
       "      <td>Barley Wine</td>\n",
       "      <td>2470.0</td>\n",
       "      <td>0.943249</td>\n",
       "      <td>0.056751</td>\n",
       "    </tr>\n",
       "    <tr>\n",
       "      <th>1</th>\n",
       "      <td>0</td>\n",
       "      <td>8.20 %</td>\n",
       "      <td>Double Dragon Imperial Red Ale</td>\n",
       "      <td>Phillips Brewing Company</td>\n",
       "      <td>American Amber / Red Ale</td>\n",
       "      <td>492.0</td>\n",
       "      <td>7.10 %</td>\n",
       "      <td>Scuttlebutt Mateo Loco Imperial Red Ale</td>\n",
       "      <td>Scuttlebutt Brewing Co. .</td>\n",
       "      <td>American Strong Ale</td>\n",
       "      <td>1635.0</td>\n",
       "      <td>0.975957</td>\n",
       "      <td>0.024043</td>\n",
       "    </tr>\n",
       "    <tr>\n",
       "      <th>2</th>\n",
       "      <td>1</td>\n",
       "      <td>7.40 %</td>\n",
       "      <td>Honey Basil Amber</td>\n",
       "      <td>Rude Hippo Brewing Company</td>\n",
       "      <td>American Amber / Red Ale</td>\n",
       "      <td>3917.0</td>\n",
       "      <td>7.40 %</td>\n",
       "      <td>Rude Hippo Honey Basil Amber</td>\n",
       "      <td>18th Street Brewery</td>\n",
       "      <td>Amber Ale</td>\n",
       "      <td>2224.0</td>\n",
       "      <td>0.183886</td>\n",
       "      <td>0.816114</td>\n",
       "    </tr>\n",
       "    <tr>\n",
       "      <th>3</th>\n",
       "      <td>0</td>\n",
       "      <td>9.70 %</td>\n",
       "      <td>Clifford 's Big Red Ale</td>\n",
       "      <td>Funky Buddha Brewery</td>\n",
       "      <td>American Amber / Red Ale</td>\n",
       "      <td>2155.0</td>\n",
       "      <td>6.50 %</td>\n",
       "      <td>Big Island Red Giant Ale</td>\n",
       "      <td>Big Island Brewhaus</td>\n",
       "      <td>American Strong Ale</td>\n",
       "      <td>2948.0</td>\n",
       "      <td>0.934337</td>\n",
       "      <td>0.065663</td>\n",
       "    </tr>\n",
       "    <tr>\n",
       "      <th>4</th>\n",
       "      <td>1</td>\n",
       "      <td>4.50 %</td>\n",
       "      <td>Real McCoy Amber Ale</td>\n",
       "      <td>Mammoth Brewing Company</td>\n",
       "      <td>American Amber / Red Ale</td>\n",
       "      <td>271.0</td>\n",
       "      <td>4.50 %</td>\n",
       "      <td>Mammoth Real McCoy Amber Ale</td>\n",
       "      <td>Mammoth Brewing Company</td>\n",
       "      <td>Altbier</td>\n",
       "      <td>1410.0</td>\n",
       "      <td>0.501621</td>\n",
       "      <td>0.498379</td>\n",
       "    </tr>\n",
       "    <tr>\n",
       "      <th>...</th>\n",
       "      <td>...</td>\n",
       "      <td>...</td>\n",
       "      <td>...</td>\n",
       "      <td>...</td>\n",
       "      <td>...</td>\n",
       "      <td>...</td>\n",
       "      <td>...</td>\n",
       "      <td>...</td>\n",
       "      <td>...</td>\n",
       "      <td>...</td>\n",
       "      <td>...</td>\n",
       "      <td>...</td>\n",
       "      <td>...</td>\n",
       "    </tr>\n",
       "    <tr>\n",
       "      <th>86</th>\n",
       "      <td>0</td>\n",
       "      <td>5.40 %</td>\n",
       "      <td>Mountain City Amber Ale</td>\n",
       "      <td>Tommyknocker Brewery</td>\n",
       "      <td>American Amber / Red Ale</td>\n",
       "      <td>2115.0</td>\n",
       "      <td>5.20 %</td>\n",
       "      <td>Colorado Mountain Ole 59er Amber Ale</td>\n",
       "      <td>Colorado Mountain Brewery</td>\n",
       "      <td>Amber Ale</td>\n",
       "      <td>77.0</td>\n",
       "      <td>0.898074</td>\n",
       "      <td>0.101926</td>\n",
       "    </tr>\n",
       "    <tr>\n",
       "      <th>87</th>\n",
       "      <td>1</td>\n",
       "      <td>10.00 %</td>\n",
       "      <td>Thomas Hooker Old Marley Barleywine</td>\n",
       "      <td>Thomas Hooker Brewing Company</td>\n",
       "      <td>American Barleywine</td>\n",
       "      <td>4063.0</td>\n",
       "      <td>10 %</td>\n",
       "      <td>Thomas Hooker Old Marley Barleywine</td>\n",
       "      <td>Thomas Hooker Brewing Company</td>\n",
       "      <td>Barley Wine</td>\n",
       "      <td>2331.0</td>\n",
       "      <td>0.423183</td>\n",
       "      <td>0.576817</td>\n",
       "    </tr>\n",
       "    <tr>\n",
       "      <th>88</th>\n",
       "      <td>1</td>\n",
       "      <td>-</td>\n",
       "      <td>Centurion Barleywine Ale</td>\n",
       "      <td>Golden City Brewery</td>\n",
       "      <td>American Barleywine</td>\n",
       "      <td>4161.0</td>\n",
       "      <td>11.20 %</td>\n",
       "      <td>Golden City Centurion Barleywine Ale</td>\n",
       "      <td>Golden City Brewery</td>\n",
       "      <td>Barley Wine</td>\n",
       "      <td>2409.0</td>\n",
       "      <td>0.877802</td>\n",
       "      <td>0.122198</td>\n",
       "    </tr>\n",
       "    <tr>\n",
       "      <th>89</th>\n",
       "      <td>1</td>\n",
       "      <td>6.00 %</td>\n",
       "      <td>Red Ale Priprioca</td>\n",
       "      <td>Cervejaria AmazÃ ´ nia Ltda .</td>\n",
       "      <td>American Amber / Red Ale</td>\n",
       "      <td>862.0</td>\n",
       "      <td>6 %</td>\n",
       "      <td>Amazon Beer Priprioca Red Ale</td>\n",
       "      <td>Amazon Beer</td>\n",
       "      <td>Amber Ale</td>\n",
       "      <td>2906.0</td>\n",
       "      <td>0.830464</td>\n",
       "      <td>0.169536</td>\n",
       "    </tr>\n",
       "    <tr>\n",
       "      <th>90</th>\n",
       "      <td>1</td>\n",
       "      <td>8.00 %</td>\n",
       "      <td>Big Red Balls</td>\n",
       "      <td>Hillcrest Brewing Company</td>\n",
       "      <td>American Amber / Red Ale</td>\n",
       "      <td>2242.0</td>\n",
       "      <td>8 %</td>\n",
       "      <td>Hillcrest Big Red Balls</td>\n",
       "      <td>Hillcrest Brewing Company</td>\n",
       "      <td>Imperial IPA</td>\n",
       "      <td>1048.0</td>\n",
       "      <td>0.395624</td>\n",
       "      <td>0.604376</td>\n",
       "    </tr>\n",
       "  </tbody>\n",
       "</table>\n",
       "<p>91 rows × 13 columns</p>\n",
       "</div>"
      ],
      "text/plain": [
       "   label ltable_ABV                      ltable_Beer_Name  \\\n",
       "0      0     8.70 %  Bulleit Bourbon Barrel Aged G'Knight   \n",
       "1      0     8.20 %        Double Dragon Imperial Red Ale   \n",
       "2      1     7.40 %                     Honey Basil Amber   \n",
       "3      0     9.70 %               Clifford 's Big Red Ale   \n",
       "4      1     4.50 %                  Real McCoy Amber Ale   \n",
       "..   ...        ...                                   ...   \n",
       "86     0     5.40 %               Mountain City Amber Ale   \n",
       "87     1    10.00 %   Thomas Hooker Old Marley Barleywine   \n",
       "88     1          -              Centurion Barleywine Ale   \n",
       "89     1     6.00 %                     Red Ale Priprioca   \n",
       "90     1     8.00 %                         Big Red Balls   \n",
       "\n",
       "         ltable_Brew_Factory_Name              ltable_Style  ltable_id  \\\n",
       "0        Oskar Blues Grill & Brew  American Amber / Red Ale     1219.0   \n",
       "1        Phillips Brewing Company  American Amber / Red Ale      492.0   \n",
       "2      Rude Hippo Brewing Company  American Amber / Red Ale     3917.0   \n",
       "3            Funky Buddha Brewery  American Amber / Red Ale     2155.0   \n",
       "4         Mammoth Brewing Company  American Amber / Red Ale      271.0   \n",
       "..                            ...                       ...        ...   \n",
       "86           Tommyknocker Brewery  American Amber / Red Ale     2115.0   \n",
       "87  Thomas Hooker Brewing Company       American Barleywine     4063.0   \n",
       "88            Golden City Brewery       American Barleywine     4161.0   \n",
       "89  Cervejaria AmazÃ ´ nia Ltda .  American Amber / Red Ale      862.0   \n",
       "90      Hillcrest Brewing Company  American Amber / Red Ale     2242.0   \n",
       "\n",
       "   rtable_ABV                             rtable_Beer_Name  \\\n",
       "0           -  Figure Eight Bourbon Barrel Aged Jumbo Love   \n",
       "1      7.10 %      Scuttlebutt Mateo Loco Imperial Red Ale   \n",
       "2      7.40 %                 Rude Hippo Honey Basil Amber   \n",
       "3      6.50 %                     Big Island Red Giant Ale   \n",
       "4      4.50 %                 Mammoth Real McCoy Amber Ale   \n",
       "..        ...                                          ...   \n",
       "86     5.20 %         Colorado Mountain Ole 59er Amber Ale   \n",
       "87       10 %          Thomas Hooker Old Marley Barleywine   \n",
       "88    11.20 %         Golden City Centurion Barleywine Ale   \n",
       "89        6 %                Amazon Beer Priprioca Red Ale   \n",
       "90        8 %                      Hillcrest Big Red Balls   \n",
       "\n",
       "         rtable_Brew_Factory_Name         rtable_Style  rtable_id  \\\n",
       "0            Figure Eight Brewing          Barley Wine     2470.0   \n",
       "1       Scuttlebutt Brewing Co. .  American Strong Ale     1635.0   \n",
       "2             18th Street Brewery            Amber Ale     2224.0   \n",
       "3             Big Island Brewhaus  American Strong Ale     2948.0   \n",
       "4         Mammoth Brewing Company              Altbier     1410.0   \n",
       "..                            ...                  ...        ...   \n",
       "86      Colorado Mountain Brewery            Amber Ale       77.0   \n",
       "87  Thomas Hooker Brewing Company          Barley Wine     2331.0   \n",
       "88            Golden City Brewery          Barley Wine     2409.0   \n",
       "89                    Amazon Beer            Amber Ale     2906.0   \n",
       "90      Hillcrest Brewing Company         Imperial IPA     1048.0   \n",
       "\n",
       "    nomatch_score  match_score  \n",
       "0        0.943249     0.056751  \n",
       "1        0.975957     0.024043  \n",
       "2        0.183886     0.816114  \n",
       "3        0.934337     0.065663  \n",
       "4        0.501621     0.498379  \n",
       "..            ...          ...  \n",
       "86       0.898074     0.101926  \n",
       "87       0.423183     0.576817  \n",
       "88       0.877802     0.122198  \n",
       "89       0.830464     0.169536  \n",
       "90       0.395624     0.604376  \n",
       "\n",
       "[91 rows x 13 columns]"
      ]
     },
     "execution_count": 10,
     "metadata": {},
     "output_type": "execute_result"
    }
   ],
   "source": [
    "predictions = model.predict(test_df)\n",
    "predictions"
   ]
  },
  {
   "cell_type": "code",
   "execution_count": 11,
   "metadata": {
    "id": "culV7GxLXI7U"
   },
   "outputs": [],
   "source": [
    "false_positives = predictions.loc[(predictions['label'] == 0) & (predictions['match_score'] > 0.5)]\n",
    "false_negatives = predictions.loc[(predictions['label'] == 1) & (predictions['match_score'] < 0.5)]\n",
    "true_positives = predictions.loc[(predictions['label'] == 1) & (predictions['match_score'] > 0.5)]\n",
    "true_negatives = predictions.loc[(predictions['label'] == 0) & (predictions['match_score'] < 0.5)]"
   ]
  },
  {
   "cell_type": "code",
   "execution_count": 12,
   "metadata": {
    "id": "3dRMDH1KYlWe"
   },
   "outputs": [],
   "source": [
    "certa_explainer = CertaExplainer(lsource, rsource)"
   ]
  },
  {
   "cell_type": "code",
   "execution_count": 13,
   "metadata": {
    "colab": {
     "base_uri": "https://localhost:8080/",
     "height": 80
    },
    "id": "bFexa3OMdSA5",
    "outputId": "afd0d55b-e7f6-492e-ed73-0547ccb1b580"
   },
   "outputs": [
    {
     "data": {
      "text/plain": [
       "label                                                    0\n",
       "ltable_ABV                                          8.20 %\n",
       "ltable_Beer_Name            Double Dragon Imperial Red Ale\n",
       "ltable_Brew_Factory_Name          Phillips Brewing Company\n",
       "ltable_Style                      American Amber / Red Ale\n",
       "Name: 1, dtype: object"
      ]
     },
     "execution_count": 13,
     "metadata": {},
     "output_type": "execute_result"
    }
   ],
   "source": [
    "i = 1\n",
    "rand_row =  test_df.iloc[i]\n",
    "l_id = int(rand_row['ltable_id'])\n",
    "label = rand_row[\"label\"]\n",
    "l_tuple = lsource.iloc[l_id]\n",
    "r_id = int(rand_row['rtable_id'])\n",
    "r_tuple = rsource.iloc[r_id]\n",
    "rand_row.head()"
   ]
  },
  {
   "cell_type": "code",
   "execution_count": 14,
   "metadata": {
    "collapsed": false,
    "jupyter": {
     "outputs_hidden": false
    },
    "pycharm": {
     "name": "#%%\n"
    }
   },
   "outputs": [
    {
     "data": {
      "text/plain": [
       "0"
      ]
     },
     "execution_count": 14,
     "metadata": {},
     "output_type": "execute_result"
    }
   ],
   "source": [
    "label = rand_row['label']\n",
    "label"
   ]
  },
  {
   "cell_type": "code",
   "execution_count": 15,
   "metadata": {
    "colab": {
     "base_uri": "https://localhost:8080/"
    },
    "id": "XUEdEu9kdcVo",
    "outputId": "9c3db37d-c68c-43e0-9c20-9220c74e92db"
   },
   "outputs": [
    {
     "data": {
      "text/html": [
       "<div>\n",
       "<style scoped>\n",
       "    .dataframe tbody tr th:only-of-type {\n",
       "        vertical-align: middle;\n",
       "    }\n",
       "\n",
       "    .dataframe tbody tr th {\n",
       "        vertical-align: top;\n",
       "    }\n",
       "\n",
       "    .dataframe thead th {\n",
       "        text-align: right;\n",
       "    }\n",
       "</style>\n",
       "<table border=\"1\" class=\"dataframe\">\n",
       "  <thead>\n",
       "    <tr style=\"text-align: right;\">\n",
       "      <th></th>\n",
       "      <th>ltable_ABV</th>\n",
       "      <th>ltable_Beer_Name</th>\n",
       "      <th>ltable_Brew_Factory_Name</th>\n",
       "      <th>ltable_Style</th>\n",
       "      <th>rtable_ABV</th>\n",
       "      <th>rtable_Beer_Name</th>\n",
       "      <th>rtable_Brew_Factory_Name</th>\n",
       "      <th>rtable_Style</th>\n",
       "    </tr>\n",
       "  </thead>\n",
       "  <tbody>\n",
       "    <tr>\n",
       "      <th>0</th>\n",
       "      <td>8.20 %</td>\n",
       "      <td>Double Dragon Imperial Red Ale</td>\n",
       "      <td>Phillips Brewing Company</td>\n",
       "      <td>American Amber / Red Ale</td>\n",
       "      <td>7.10 %</td>\n",
       "      <td>Scuttlebutt Mateo Loco Imperial Red Ale</td>\n",
       "      <td>Scuttlebutt Brewing Co. .</td>\n",
       "      <td>American Strong Ale</td>\n",
       "    </tr>\n",
       "  </tbody>\n",
       "</table>\n",
       "</div>"
      ],
      "text/plain": [
       "  ltable_ABV                ltable_Beer_Name  ltable_Brew_Factory_Name  \\\n",
       "0     8.20 %  Double Dragon Imperial Red Ale  Phillips Brewing Company   \n",
       "\n",
       "               ltable_Style rtable_ABV  \\\n",
       "0  American Amber / Red Ale     7.10 %   \n",
       "\n",
       "                          rtable_Beer_Name   rtable_Brew_Factory_Name  \\\n",
       "0  Scuttlebutt Mateo Loco Imperial Red Ale  Scuttlebutt Brewing Co. .   \n",
       "\n",
       "          rtable_Style  \n",
       "0  American Strong Ale  "
      ]
     },
     "execution_count": 15,
     "metadata": {},
     "output_type": "execute_result"
    }
   ],
   "source": [
    "item = get_row(l_tuple, r_tuple)\n",
    "n_item = item.drop(['ltable_id','rtable_id'],axis=1)\n",
    "n_item.reindex(sorted(n_item.columns), axis=1)"
   ]
  },
  {
   "cell_type": "code",
   "execution_count": 16,
   "metadata": {
    "id": "nlLNKSf0XN1F"
   },
   "outputs": [
    {
     "name": "stderr",
     "output_type": "stream",
     "text": [
      "WARNING:root:could find 24 triangles of the 100 requested\n"
     ]
    }
   ],
   "source": [
    "saliency_df, cf_summary, counterfactual_examples, triangles, lattices = certa_explainer.explain(l_tuple, r_tuple, predict_fn)"
   ]
  },
  {
   "cell_type": "code",
   "execution_count": 17,
   "metadata": {
    "colab": {
     "base_uri": "https://localhost:8080/",
     "height": 80
    },
    "id": "RxSTS5uMeQKe",
    "outputId": "03c1cb6c-f684-4441-dd90-0b5058683023"
   },
   "outputs": [
    {
     "data": {
      "text/html": [
       "<style  type=\"text/css\" >\n",
       "#T_e254f4c6_a155_11ec_9d16_24418c396bddrow0_col0{\n",
       "            background-color:  #a6a6ff;\n",
       "            color:  #000000;\n",
       "        }#T_e254f4c6_a155_11ec_9d16_24418c396bddrow0_col1{\n",
       "            background-color:  #5151ff;\n",
       "            color:  #f1f1f1;\n",
       "        }#T_e254f4c6_a155_11ec_9d16_24418c396bddrow0_col2,#T_e254f4c6_a155_11ec_9d16_24418c396bddrow0_col3{\n",
       "            background-color:  #c3c3ff;\n",
       "            color:  #000000;\n",
       "        }#T_e254f4c6_a155_11ec_9d16_24418c396bddrow0_col4,#T_e254f4c6_a155_11ec_9d16_24418c396bddrow0_col6{\n",
       "            background-color:  #d8d8ff;\n",
       "            color:  #000000;\n",
       "        }#T_e254f4c6_a155_11ec_9d16_24418c396bddrow0_col5{\n",
       "            background-color:  #8787ff;\n",
       "            color:  #000000;\n",
       "        }#T_e254f4c6_a155_11ec_9d16_24418c396bddrow0_col7{\n",
       "            background-color:  #b8b8ff;\n",
       "            color:  #000000;\n",
       "        }</style><table id=\"T_e254f4c6_a155_11ec_9d16_24418c396bdd\" ><thead>    <tr>        <th class=\"blank level0\" ></th>        <th class=\"col_heading level0 col0\" >ltable_ABV</th>        <th class=\"col_heading level0 col1\" >ltable_Beer_Name</th>        <th class=\"col_heading level0 col2\" >ltable_Brew_Factory_Name</th>        <th class=\"col_heading level0 col3\" >ltable_Style</th>        <th class=\"col_heading level0 col4\" >rtable_ABV</th>        <th class=\"col_heading level0 col5\" >rtable_Beer_Name</th>        <th class=\"col_heading level0 col6\" >rtable_Brew_Factory_Name</th>        <th class=\"col_heading level0 col7\" >rtable_Style</th>    </tr></thead><tbody>\n",
       "                <tr>\n",
       "                        <th id=\"T_e254f4c6_a155_11ec_9d16_24418c396bddlevel0_row0\" class=\"row_heading level0 row0\" >0</th>\n",
       "                        <td id=\"T_e254f4c6_a155_11ec_9d16_24418c396bddrow0_col0\" class=\"data row0 col0\" >0.447761</td>\n",
       "                        <td id=\"T_e254f4c6_a155_11ec_9d16_24418c396bddrow0_col1\" class=\"data row0 col1\" >0.656716</td>\n",
       "                        <td id=\"T_e254f4c6_a155_11ec_9d16_24418c396bddrow0_col2\" class=\"data row0 col2\" >0.373134</td>\n",
       "                        <td id=\"T_e254f4c6_a155_11ec_9d16_24418c396bddrow0_col3\" class=\"data row0 col3\" >0.373134</td>\n",
       "                        <td id=\"T_e254f4c6_a155_11ec_9d16_24418c396bddrow0_col4\" class=\"data row0 col4\" >0.320896</td>\n",
       "                        <td id=\"T_e254f4c6_a155_11ec_9d16_24418c396bddrow0_col5\" class=\"data row0 col5\" >0.522388</td>\n",
       "                        <td id=\"T_e254f4c6_a155_11ec_9d16_24418c396bddrow0_col6\" class=\"data row0 col6\" >0.320896</td>\n",
       "                        <td id=\"T_e254f4c6_a155_11ec_9d16_24418c396bddrow0_col7\" class=\"data row0 col7\" >0.402985</td>\n",
       "            </tr>\n",
       "    </tbody></table>"
      ],
      "text/plain": [
       "<pandas.io.formats.style.Styler at 0x7fdb4b9d7668>"
      ]
     },
     "execution_count": 17,
     "metadata": {},
     "output_type": "execute_result"
    }
   ],
   "source": [
    "saliency_df.reindex(sorted(saliency_df.columns), axis=1).style.background_gradient(cmap=cm, axis=1, low=0.1, high=0.6)"
   ]
  },
  {
   "cell_type": "code",
   "execution_count": 18,
   "metadata": {
    "colab": {
     "base_uri": "https://localhost:8080/",
     "height": 548
    },
    "id": "cpVv8_oadcxD",
    "outputId": "104c562a-d3b0-4f2f-fcea-7b658c2856f3"
   },
   "outputs": [
    {
     "data": {
      "text/html": [
       "<div>\n",
       "<style scoped>\n",
       "    .dataframe tbody tr th:only-of-type {\n",
       "        vertical-align: middle;\n",
       "    }\n",
       "\n",
       "    .dataframe tbody tr th {\n",
       "        vertical-align: top;\n",
       "    }\n",
       "\n",
       "    .dataframe thead th {\n",
       "        text-align: right;\n",
       "    }\n",
       "</style>\n",
       "<table border=\"1\" class=\"dataframe\">\n",
       "  <thead>\n",
       "    <tr style=\"text-align: right;\">\n",
       "      <th></th>\n",
       "      <th>ltable_Beer_Name</th>\n",
       "      <th>ltable_Brew_Factory_Name</th>\n",
       "      <th>ltable_Style</th>\n",
       "      <th>ltable_ABV</th>\n",
       "      <th>rtable_Beer_Name</th>\n",
       "      <th>rtable_Brew_Factory_Name</th>\n",
       "      <th>rtable_Style</th>\n",
       "      <th>rtable_ABV</th>\n",
       "      <th>nomatch_score</th>\n",
       "      <th>match_score</th>\n",
       "      <th>alteredAttributes</th>\n",
       "      <th>droppedValues</th>\n",
       "      <th>copiedValues</th>\n",
       "      <th>triangle</th>\n",
       "      <th>attr_count</th>\n",
       "    </tr>\n",
       "  </thead>\n",
       "  <tbody>\n",
       "    <tr>\n",
       "      <th>29</th>\n",
       "      <td>Mateo Loco</td>\n",
       "      <td>Phillips Brewing Company</td>\n",
       "      <td>American Amber / Red Ale</td>\n",
       "      <td>10.00 %</td>\n",
       "      <td>Scuttlebutt Mateo Loco Imperial Red Ale</td>\n",
       "      <td>Scuttlebutt Brewing Co. .</td>\n",
       "      <td>American Strong Ale</td>\n",
       "      <td>7.10 %</td>\n",
       "      <td>0.3467586636543274</td>\n",
       "      <td>0.6532413363456726</td>\n",
       "      <td>('ltable_Beer_Name', 'ltable_ABV')</td>\n",
       "      <td>['Double Dragon Imperial Red Ale', '8.20 %']</td>\n",
       "      <td>['Mateo Loco', '10.00 %']</td>\n",
       "      <td>0@64025 1@1635 0@492</td>\n",
       "      <td>2</td>\n",
       "    </tr>\n",
       "    <tr>\n",
       "      <th>36</th>\n",
       "      <td>Mateo Loco</td>\n",
       "      <td>Phillips Brewing Company</td>\n",
       "      <td>American Amber / Red Ale</td>\n",
       "      <td>%</td>\n",
       "      <td>Scuttlebutt Mateo Loco Imperial Red Ale</td>\n",
       "      <td>Scuttlebutt Brewing Co. .</td>\n",
       "      <td>American Strong Ale</td>\n",
       "      <td>7.10 %</td>\n",
       "      <td>0.31175321340560913</td>\n",
       "      <td>0.6882467865943909</td>\n",
       "      <td>('ltable_Beer_Name', 'ltable_ABV')</td>\n",
       "      <td>['Double Dragon Imperial Red Ale', '8.20 %']</td>\n",
       "      <td>['Mateo Loco', '%']</td>\n",
       "      <td>0@64031 1@1635 0@492</td>\n",
       "      <td>2</td>\n",
       "    </tr>\n",
       "    <tr>\n",
       "      <th>41</th>\n",
       "      <td>House</td>\n",
       "      <td>Phillips Brewing Company</td>\n",
       "      <td>American Amber / Red Ale</td>\n",
       "      <td>5.10 %</td>\n",
       "      <td>Scuttlebutt Mateo Loco Imperial Red Ale</td>\n",
       "      <td>Scuttlebutt Brewing Co. .</td>\n",
       "      <td>American Strong Ale</td>\n",
       "      <td>7.10 %</td>\n",
       "      <td>0.33189594745635986</td>\n",
       "      <td>0.6681040525436401</td>\n",
       "      <td>('ltable_Beer_Name', 'ltable_ABV')</td>\n",
       "      <td>['Double Dragon Imperial Red Ale', '8.20 %']</td>\n",
       "      <td>['House', '5.10 %']</td>\n",
       "      <td>0@11685 1@1635 0@492</td>\n",
       "      <td>2</td>\n",
       "    </tr>\n",
       "    <tr>\n",
       "      <th>43</th>\n",
       "      <td>Bushwacker</td>\n",
       "      <td>Phillips Brewing Company</td>\n",
       "      <td>American Amber / Red Ale</td>\n",
       "      <td>7.10 %</td>\n",
       "      <td>Scuttlebutt Mateo Loco Imperial Red Ale</td>\n",
       "      <td>Scuttlebutt Brewing Co. .</td>\n",
       "      <td>American Strong Ale</td>\n",
       "      <td>7.10 %</td>\n",
       "      <td>0.4062122106552124</td>\n",
       "      <td>0.5937877893447876</td>\n",
       "      <td>('ltable_Beer_Name', 'ltable_ABV')</td>\n",
       "      <td>['Double Dragon Imperial Red Ale', '8.20 %']</td>\n",
       "      <td>['Bushwacker', '7.10 %']</td>\n",
       "      <td>0@23947 1@1635 0@492</td>\n",
       "      <td>2</td>\n",
       "    </tr>\n",
       "    <tr>\n",
       "      <th>48</th>\n",
       "      <td>Mateo</td>\n",
       "      <td>Phillips Brewing Company</td>\n",
       "      <td>American Amber / Red Ale</td>\n",
       "      <td>10.00 %</td>\n",
       "      <td>Scuttlebutt Mateo Loco Imperial Red Ale</td>\n",
       "      <td>Scuttlebutt Brewing Co. .</td>\n",
       "      <td>American Strong Ale</td>\n",
       "      <td>7.10 %</td>\n",
       "      <td>0.24258726835250854</td>\n",
       "      <td>0.7574127316474915</td>\n",
       "      <td>('ltable_Beer_Name', 'ltable_ABV')</td>\n",
       "      <td>['Double Dragon Imperial Red Ale', '8.20 %']</td>\n",
       "      <td>['Mateo', '10.00 %']</td>\n",
       "      <td>0@64018 1@1635 0@492</td>\n",
       "      <td>2</td>\n",
       "    </tr>\n",
       "    <tr>\n",
       "      <th>26</th>\n",
       "      <td>Oktoberfest</td>\n",
       "      <td>Phillips Brewing Company</td>\n",
       "      <td>American Amber / Red Ale</td>\n",
       "      <td>6.10 %</td>\n",
       "      <td>Scuttlebutt Mateo Loco Imperial Red Ale</td>\n",
       "      <td>Scuttlebutt Brewing Co. .</td>\n",
       "      <td>American Strong Ale</td>\n",
       "      <td>7.10 %</td>\n",
       "      <td>0.40743488073349</td>\n",
       "      <td>0.59256511926651</td>\n",
       "      <td>('ltable_Beer_Name', 'ltable_ABV')</td>\n",
       "      <td>['Double Dragon Imperial Red Ale', '8.20 %']</td>\n",
       "      <td>['Oktoberfest', '6.10 %']</td>\n",
       "      <td>0@29669 1@1635 0@492</td>\n",
       "      <td>2</td>\n",
       "    </tr>\n",
       "    <tr>\n",
       "      <th>16</th>\n",
       "      <td>Shuffle</td>\n",
       "      <td>Phillips Brewing Company</td>\n",
       "      <td>American Amber / Red Ale</td>\n",
       "      <td>5.10 %</td>\n",
       "      <td>Scuttlebutt Mateo Loco Imperial Red Ale</td>\n",
       "      <td>Scuttlebutt Brewing Co. .</td>\n",
       "      <td>American Strong Ale</td>\n",
       "      <td>7.10 %</td>\n",
       "      <td>0.3127260208129883</td>\n",
       "      <td>0.6872739791870117</td>\n",
       "      <td>('ltable_Beer_Name', 'ltable_ABV')</td>\n",
       "      <td>['Double Dragon Imperial Red Ale', '8.20 %']</td>\n",
       "      <td>['Shuffle', '5.10 %']</td>\n",
       "      <td>0@68725 1@1635 0@492</td>\n",
       "      <td>2</td>\n",
       "    </tr>\n",
       "  </tbody>\n",
       "</table>\n",
       "</div>"
      ],
      "text/plain": [
       "   ltable_Beer_Name  ltable_Brew_Factory_Name              ltable_Style  \\\n",
       "29       Mateo Loco  Phillips Brewing Company  American Amber / Red Ale   \n",
       "36       Mateo Loco  Phillips Brewing Company  American Amber / Red Ale   \n",
       "41            House  Phillips Brewing Company  American Amber / Red Ale   \n",
       "43       Bushwacker  Phillips Brewing Company  American Amber / Red Ale   \n",
       "48            Mateo  Phillips Brewing Company  American Amber / Red Ale   \n",
       "26      Oktoberfest  Phillips Brewing Company  American Amber / Red Ale   \n",
       "16          Shuffle  Phillips Brewing Company  American Amber / Red Ale   \n",
       "\n",
       "   ltable_ABV                         rtable_Beer_Name  \\\n",
       "29    10.00 %  Scuttlebutt Mateo Loco Imperial Red Ale   \n",
       "36          %  Scuttlebutt Mateo Loco Imperial Red Ale   \n",
       "41     5.10 %  Scuttlebutt Mateo Loco Imperial Red Ale   \n",
       "43     7.10 %  Scuttlebutt Mateo Loco Imperial Red Ale   \n",
       "48    10.00 %  Scuttlebutt Mateo Loco Imperial Red Ale   \n",
       "26     6.10 %  Scuttlebutt Mateo Loco Imperial Red Ale   \n",
       "16     5.10 %  Scuttlebutt Mateo Loco Imperial Red Ale   \n",
       "\n",
       "     rtable_Brew_Factory_Name         rtable_Style rtable_ABV  \\\n",
       "29  Scuttlebutt Brewing Co. .  American Strong Ale     7.10 %   \n",
       "36  Scuttlebutt Brewing Co. .  American Strong Ale     7.10 %   \n",
       "41  Scuttlebutt Brewing Co. .  American Strong Ale     7.10 %   \n",
       "43  Scuttlebutt Brewing Co. .  American Strong Ale     7.10 %   \n",
       "48  Scuttlebutt Brewing Co. .  American Strong Ale     7.10 %   \n",
       "26  Scuttlebutt Brewing Co. .  American Strong Ale     7.10 %   \n",
       "16  Scuttlebutt Brewing Co. .  American Strong Ale     7.10 %   \n",
       "\n",
       "          nomatch_score         match_score  \\\n",
       "29   0.3467586636543274  0.6532413363456726   \n",
       "36  0.31175321340560913  0.6882467865943909   \n",
       "41  0.33189594745635986  0.6681040525436401   \n",
       "43   0.4062122106552124  0.5937877893447876   \n",
       "48  0.24258726835250854  0.7574127316474915   \n",
       "26     0.40743488073349    0.59256511926651   \n",
       "16   0.3127260208129883  0.6872739791870117   \n",
       "\n",
       "                     alteredAttributes  \\\n",
       "29  ('ltable_Beer_Name', 'ltable_ABV')   \n",
       "36  ('ltable_Beer_Name', 'ltable_ABV')   \n",
       "41  ('ltable_Beer_Name', 'ltable_ABV')   \n",
       "43  ('ltable_Beer_Name', 'ltable_ABV')   \n",
       "48  ('ltable_Beer_Name', 'ltable_ABV')   \n",
       "26  ('ltable_Beer_Name', 'ltable_ABV')   \n",
       "16  ('ltable_Beer_Name', 'ltable_ABV')   \n",
       "\n",
       "                                   droppedValues               copiedValues  \\\n",
       "29  ['Double Dragon Imperial Red Ale', '8.20 %']  ['Mateo Loco', '10.00 %']   \n",
       "36  ['Double Dragon Imperial Red Ale', '8.20 %']        ['Mateo Loco', '%']   \n",
       "41  ['Double Dragon Imperial Red Ale', '8.20 %']        ['House', '5.10 %']   \n",
       "43  ['Double Dragon Imperial Red Ale', '8.20 %']   ['Bushwacker', '7.10 %']   \n",
       "48  ['Double Dragon Imperial Red Ale', '8.20 %']       ['Mateo', '10.00 %']   \n",
       "26  ['Double Dragon Imperial Red Ale', '8.20 %']  ['Oktoberfest', '6.10 %']   \n",
       "16  ['Double Dragon Imperial Red Ale', '8.20 %']      ['Shuffle', '5.10 %']   \n",
       "\n",
       "                triangle attr_count  \n",
       "29  0@64025 1@1635 0@492          2  \n",
       "36  0@64031 1@1635 0@492          2  \n",
       "41  0@11685 1@1635 0@492          2  \n",
       "43  0@23947 1@1635 0@492          2  \n",
       "48  0@64018 1@1635 0@492          2  \n",
       "26  0@29669 1@1635 0@492          2  \n",
       "16  0@68725 1@1635 0@492          2  "
      ]
     },
     "execution_count": 18,
     "metadata": {},
     "output_type": "execute_result"
    }
   ],
   "source": [
    "counterfactual_examples"
   ]
  },
  {
   "cell_type": "code",
   "execution_count": 19,
   "metadata": {
    "colab": {
     "base_uri": "https://localhost:8080/"
    },
    "id": "fUQe2VcydwL_",
    "outputId": "e52ccd89-a7fa-49f3-fb12-c20dd72621bd"
   },
   "outputs": [
    {
     "data": {
      "text/plain": [
       "ltable_Beer_Name/ltable_ABV    0.5\n",
       "dtype: float64"
      ]
     },
     "execution_count": 19,
     "metadata": {},
     "output_type": "execute_result"
    }
   ],
   "source": [
    "cf_summary"
   ]
  },
  {
   "cell_type": "code",
   "execution_count": null,
   "metadata": {
    "id": "-BY4V_Q_dw_H"
   },
   "outputs": [],
   "source": []
  },
  {
   "cell_type": "code",
   "execution_count": 39,
   "metadata": {},
   "outputs": [
    {
     "data": {
      "text/html": [
       "<div>\n",
       "<style scoped>\n",
       "    .dataframe tbody tr th:only-of-type {\n",
       "        vertical-align: middle;\n",
       "    }\n",
       "\n",
       "    .dataframe tbody tr th {\n",
       "        vertical-align: top;\n",
       "    }\n",
       "\n",
       "    .dataframe thead th {\n",
       "        text-align: right;\n",
       "    }\n",
       "</style>\n",
       "<table border=\"1\" class=\"dataframe\">\n",
       "  <thead>\n",
       "    <tr style=\"text-align: right;\">\n",
       "      <th></th>\n",
       "      <th>id</th>\n",
       "      <th>Beer_Name</th>\n",
       "      <th>Brew_Factory_Name</th>\n",
       "      <th>Style</th>\n",
       "      <th>ABV</th>\n",
       "      <th>type</th>\n",
       "    </tr>\n",
       "  </thead>\n",
       "  <tbody>\n",
       "    <tr>\n",
       "      <th>1635</th>\n",
       "      <td>1635</td>\n",
       "      <td>Scuttlebutt Mateo Loco Imperial Red Ale</td>\n",
       "      <td>Scuttlebutt Brewing Co. .</td>\n",
       "      <td>American Strong Ale</td>\n",
       "      <td>7.10 %</td>\n",
       "      <td>pivot</td>\n",
       "    </tr>\n",
       "    <tr>\n",
       "      <th>492</th>\n",
       "      <td>492</td>\n",
       "      <td>Double Dragon Imperial Red Ale</td>\n",
       "      <td>Phillips Brewing Company</td>\n",
       "      <td>American Amber / Red Ale</td>\n",
       "      <td>8.20 %</td>\n",
       "      <td>free</td>\n",
       "    </tr>\n",
       "    <tr>\n",
       "      <th>3055</th>\n",
       "      <td>64021</td>\n",
       "      <td>Mateo Loco</td>\n",
       "      <td>Company</td>\n",
       "      <td>American Amber / Red Ale</td>\n",
       "      <td>10.00 %</td>\n",
       "      <td>support</td>\n",
       "    </tr>\n",
       "  </tbody>\n",
       "</table>\n",
       "</div>"
      ],
      "text/plain": [
       "         id                                Beer_Name  \\\n",
       "1635   1635  Scuttlebutt Mateo Loco Imperial Red Ale   \n",
       "492     492           Double Dragon Imperial Red Ale   \n",
       "3055  64021                               Mateo Loco   \n",
       "\n",
       "              Brew_Factory_Name                     Style      ABV     type  \n",
       "1635  Scuttlebutt Brewing Co. .       American Strong Ale   7.10 %    pivot  \n",
       "492    Phillips Brewing Company  American Amber / Red Ale   8.20 %     free  \n",
       "3055                    Company  American Amber / Red Ale  10.00 %  support  "
      ]
     },
     "execution_count": 39,
     "metadata": {},
     "output_type": "execute_result"
    }
   ],
   "source": [
    "lattice = lattices[5]\n",
    "lattice.triangle"
   ]
  },
  {
   "cell_type": "code",
   "execution_count": 40,
   "metadata": {},
   "outputs": [
    {
     "data": {
      "image/png": "[encoded data removed]",
      "text/plain": [
       "<IPython.core.display.Image object>"
      ]
     },
     "execution_count": 40,
     "metadata": {},
     "output_type": "execute_result"
    }
   ],
   "source": [
    "\n",
    "\n",
    "dot_data = lattice.hasse() \n",
    "graph = graphviz.Source(dot_data)\n",
    "pydot_graph = pydotplus.graph_from_dot_data(dot_data)\n",
    "\n",
    "Image(pydot_graph.create_png())"
   ]
  }
 ],
 "metadata": {
  "colab": {
   "name": "demo1_dm_beers.ipynb",
   "provenance": []
  },
  "kernelspec": {
   "display_name": "Python 3",
   "language": "python",
   "name": "python3"
  },
  "language_info": {
   "codemirror_mode": {
    "name": "ipython",
    "version": 3
   },
   "file_extension": ".py",
   "mimetype": "text/x-python",
   "name": "python",
   "nbconvert_exporter": "python",
   "pygments_lexer": "ipython3",
   "version": "3.6.8"
  }
 },
 "nbformat": 4,
 "nbformat_minor": 4
}
