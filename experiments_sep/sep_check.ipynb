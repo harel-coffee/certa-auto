{
 "cells": [
  {
   "cell_type": "code",
   "execution_count": 1,
   "metadata": {
    "collapsed": true
   },
   "outputs": [],
   "source": [
    "import pandas as pd"
   ]
  },
  {
   "cell_type": "code",
   "execution_count": 4,
   "outputs": [],
   "source": [
    "deeper_vanilla = pd.read_csv('beers/deeper/eval.csv')\n",
    "deeper_robust = pd.read_csv('beers/deeper_robust/eval.csv')\n",
    "dm_vanilla = pd.read_csv('beers/dm/eval.csv')\n",
    "dm_robust = pd.read_csv('beers/dm_robust/eval.csv')\n",
    "emt_vanilla = pd.read_csv('beers/emt/eval.csv')"
   ],
   "metadata": {
    "collapsed": false,
    "pycharm": {
     "name": "#%%\n"
    }
   }
  },
  {
   "cell_type": "code",
   "execution_count": 32,
   "outputs": [
    {
     "data": {
      "text/plain": "row        attributes                                        \n1024-37    ['Beer_Name', 'Brew_Factory_Name', 'Style']           2\n1219-2470  ['Beer_Name', 'Brew_Factory_Name', 'Style', 'ABV']    2\n1780-685   ['Beer_Name']                                         2\n2155-2948  ['Beer_Name', 'Brew_Factory_Name', 'Style', 'ABV']    2\n271-1410   ['Beer_Name', 'Style', 'ABV']                         2\n3309-716   ['Beer_Name', 'Brew_Factory_Name']                    2\n3917-2224  ['Beer_Name', 'Brew_Factory_Name']                    2\n           ['Brew_Factory_Name', 'Style', 'ABV']                 2\n492-1635   ['Beer_Name', 'Brew_Factory_Name', 'Style']           2\n           ['Beer_Name', 'Style', 'ABV']                         2\nName: attributes, dtype: int64"
     },
     "execution_count": 32,
     "metadata": {},
     "output_type": "execute_result"
    }
   ],
   "source": [
    "emt_vanilla.groupby('row')['attributes'].value_counts()"
   ],
   "metadata": {
    "collapsed": false,
    "pycharm": {
     "name": "#%%\n"
    }
   }
  }
 ],
 "metadata": {
  "kernelspec": {
   "display_name": "Python 3",
   "language": "python",
   "name": "python3"
  },
  "language_info": {
   "codemirror_mode": {
    "name": "ipython",
    "version": 2
   },
   "file_extension": ".py",
   "mimetype": "text/x-python",
   "name": "python",
   "nbconvert_exporter": "python",
   "pygments_lexer": "ipython2",
   "version": "2.7.6"
  }
 },
 "nbformat": 4,
 "nbformat_minor": 0
}