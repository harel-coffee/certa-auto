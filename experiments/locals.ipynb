{
 "cells": [
  {
   "cell_type": "code",
   "execution_count": 17,
   "metadata": {
    "collapsed": true
   },
   "outputs": [],
   "source": [
    "import numpy as np\n",
    "import pandas as pd\n",
    "import matplotlib.pyplot as plt\n",
    "from certa import local_explain, triangles_method\n",
    "\n",
    "from certa.utils import merge_sources\n",
    "from eval_emt import get_original_prediction\n",
    "from models.bert import EMTERModel"
   ]
  },
  {
   "cell_type": "code",
   "execution_count": 10,
   "outputs": [
    {
     "name": "stderr",
     "output_type": "stream",
     "text": [
      "Some weights of the model checkpoint at distilbert-base-uncased were not used when initializing DistilBertForSequenceClassification: ['vocab_layer_norm.weight', 'vocab_transform.weight', 'vocab_layer_norm.bias', 'vocab_transform.bias', 'vocab_projector.weight', 'vocab_projector.bias']\n",
      "- This IS expected if you are initializing DistilBertForSequenceClassification from the checkpoint of a model trained on another task or with another architecture (e.g. initializing a BertForSequenceClassification model from a BertForPreTraining model).\n",
      "- This IS NOT expected if you are initializing DistilBertForSequenceClassification from the checkpoint of a model that you expect to be exactly identical (initializing a BertForSequenceClassification model from a BertForSequenceClassification model).\n",
      "Some weights of DistilBertForSequenceClassification were not initialized from the model checkpoint at distilbert-base-uncased and are newly initialized: ['pre_classifier.bias', 'classifier.bias', 'pre_classifier.weight', 'classifier.weight']\n",
      "You should probably TRAIN this model on a down-stream task to be able to use it for predictions and inference.\n"
     ]
    }
   ],
   "source": [
    "model = EMTERModel()\n",
    "model = model.load('../models/bert/abt_buy')"
   ],
   "metadata": {
    "collapsed": false,
    "pycharm": {
     "name": "#%%\n"
    }
   }
  },
  {
   "cell_type": "code",
   "execution_count": 11,
   "outputs": [],
   "source": [
    "def predict_fn(x, model, ignore_columns=['ltable_id', 'rtable_id', 'label']):\n",
    "    return model.predict(x)"
   ],
   "metadata": {
    "collapsed": false,
    "pycharm": {
     "name": "#%%\n"
    }
   }
  },
  {
   "cell_type": "code",
   "execution_count": 12,
   "outputs": [],
   "source": [
    "datadir = '../datasets/abt_buy'\n",
    "lsource = pd.read_csv(datadir + '/tableA.csv')\n",
    "rsource = pd.read_csv(datadir + '/tableB.csv')\n",
    "gt = pd.read_csv(datadir + '/train.csv')\n",
    "valid = pd.read_csv(datadir + '/valid.csv')\n",
    "test = pd.read_csv(datadir + '/test.csv')"
   ],
   "metadata": {
    "collapsed": false,
    "pycharm": {
     "name": "#%%\n"
    }
   }
  },
  {
   "cell_type": "code",
   "execution_count": null,
   "outputs": [],
   "source": [
    "test_df = merge_sources(test, 'ltable_', 'rtable_', lsource, rsource, ['label'], []).dropna()"
   ],
   "metadata": {
    "collapsed": false,
    "pycharm": {
     "name": "#%%\n"
    }
   }
  },
  {
   "cell_type": "code",
   "execution_count": 33,
   "outputs": [],
   "source": [
    "rand_row = test_df.iloc[27]\n",
    "l_id = int(rand_row['ltable_id'])\n",
    "l_tuple = lsource.iloc[l_id]\n",
    "r_id = int(rand_row['rtable_id'])\n",
    "r_tuple = rsource.iloc[r_id]\n"
   ],
   "metadata": {
    "collapsed": false,
    "pycharm": {
     "name": "#%%\n"
    }
   }
  },
  {
   "cell_type": "code",
   "execution_count": 34,
   "outputs": [
    {
     "data": {
      "text/plain": "id                                                           572\nname           samsung 46 ' series 5 lcd black flat panel hdt...\ndescription    samsung 46 ' series 5 lcd black flat panel hdt...\nprice                                                        NaN\nName: 572, dtype: object"
     },
     "execution_count": 34,
     "metadata": {},
     "output_type": "execute_result"
    }
   ],
   "source": [
    "l_tuple"
   ],
   "metadata": {
    "collapsed": false,
    "pycharm": {
     "name": "#%%\n"
    }
   }
  },
  {
   "cell_type": "code",
   "execution_count": 35,
   "outputs": [
    {
     "data": {
      "text/plain": "id                                                           695\nname                       samsung 4 series ln22a450 22 ' lcd tv\ndescription    samsung ln22a450 22 ' widescreen 720p lcd hdtv...\nprice                                                     397.77\nName: 695, dtype: object"
     },
     "execution_count": 35,
     "metadata": {},
     "output_type": "execute_result"
    }
   ],
   "source": [
    "r_tuple"
   ],
   "metadata": {
    "collapsed": false,
    "pycharm": {
     "name": "#%%\n"
    }
   }
  },
  {
   "cell_type": "code",
   "execution_count": 41,
   "outputs": [
    {
     "name": "stdout",
     "output_type": "stream",
     "text": [
      "We use the device: 'cpu' and 0 gpu's. Important: distributed and 16-bits training is currently not implemented! \n"
     ]
    },
    {
     "name": "stderr",
     "output_type": "stream",
     "text": [
      "Test: 100%|██████████| 1/1 [00:00<00:00,  4.36it/s]\n",
      "/Users/tommasoteofili/Library/Python/3.7/lib/python/site-packages/sklearn/metrics/_classification.py:1515: UndefinedMetricWarning: F-score is ill-defined and being set to 0.0 due to no true nor predicted samples. Use `zero_division` parameter to control this behavior.\n",
      "  average, \"true nor predicted\", 'F-score is', len(true_sum)\n"
     ]
    },
    {
     "data": {
      "text/plain": "0"
     },
     "execution_count": 41,
     "metadata": {},
     "output_type": "execute_result"
    }
   ],
   "source": [
    "# false negative\n",
    "predicted_class = np.argmax(get_original_prediction(l_tuple, r_tuple, model))\n",
    "predicted_class"
   ],
   "metadata": {
    "collapsed": false,
    "pycharm": {
     "name": "#%%\n"
    }
   }
  },
  {
   "cell_type": "code",
   "execution_count": 42,
   "outputs": [
    {
     "name": "stdout",
     "output_type": "stream",
     "text": [
      "We use the device: 'cpu' and 0 gpu's. Important: distributed and 16-bits training is currently not implemented! \n"
     ]
    },
    {
     "name": "stderr",
     "output_type": "stream",
     "text": [
      "Test: 100%|██████████| 1/1 [00:00<00:00,  4.35it/s]\n",
      "/Users/tommasoteofili/Library/Python/3.7/lib/python/site-packages/sklearn/metrics/_classification.py:1515: UndefinedMetricWarning: F-score is ill-defined and being set to 0.0 due to no true nor predicted samples. Use `zero_division` parameter to control this behavior.\n",
      "  average, \"true nor predicted\", 'F-score is', len(true_sum)\n"
     ]
    },
    {
     "name": "stdout",
     "output_type": "stream",
     "text": [
      "We use the device: 'cpu' and 0 gpu's. Important: distributed and 16-bits training is currently not implemented! \n"
     ]
    },
    {
     "name": "stderr",
     "output_type": "stream",
     "text": [
      "Test: 100%|██████████| 63/63 [01:45<00:00,  1.68s/it]\n"
     ]
    },
    {
     "name": "stdout",
     "output_type": "stream",
     "text": [
      "We use the device: 'cpu' and 0 gpu's. Important: distributed and 16-bits training is currently not implemented! \n"
     ]
    },
    {
     "name": "stderr",
     "output_type": "stream",
     "text": [
      "Test: 100%|██████████| 63/63 [01:44<00:00,  1.66s/it]\n"
     ]
    },
    {
     "name": "stdout",
     "output_type": "stream",
     "text": [
      "We use the device: 'cpu' and 0 gpu's. Important: distributed and 16-bits training is currently not implemented! \n"
     ]
    },
    {
     "name": "stderr",
     "output_type": "stream",
     "text": [
      "Test: 100%|██████████| 21/21 [00:33<00:00,  1.59s/it]"
     ]
    },
    {
     "name": "stdout",
     "output_type": "stream",
     "text": [
      "+perturbed neighborhood: 157\n"
     ]
    },
    {
     "name": "stderr",
     "output_type": "stream",
     "text": [
      "\n",
      "/Users/tommasoteofili/Library/Python/3.7/lib/python/site-packages/sklearn/metrics/_classification.py:1272: UndefinedMetricWarning: Recall and F-score are ill-defined and being set to 0.0 in labels with no true samples. Use `zero_division` parameter to control this behavior.\n",
      "  _warn_prf(average, modifier, msg_start, len(result))\n"
     ]
    }
   ],
   "source": [
    "tmin = 0.5\n",
    "tmax = 0.5\n",
    "local_samples, gleft_df, gright_df = local_explain.dataset_local(l_tuple, r_tuple, model, lsource, rsource, datadir,\n",
    "                                                                            tmin, tmax, predict_fn, num_triangles=100,\n",
    "                                                                            class_to_explain=predicted_class, use_predict=True,\n",
    "                                                                            max_predict=500)"
   ],
   "metadata": {
    "collapsed": false,
    "pycharm": {
     "name": "#%%\n"
    }
   }
  },
  {
   "cell_type": "code",
   "execution_count": null,
   "outputs": [
    {
     "name": "stderr",
     "output_type": "stream",
     "text": [
      "  0%|          | 0/100 [00:00<?, ?it/s]"
     ]
    },
    {
     "name": "stdout",
     "output_type": "stream",
     "text": [
      "We use the device: 'cpu' and 0 gpu's. Important: distributed and 16-bits training is currently not implemented! \n"
     ]
    },
    {
     "name": "stderr",
     "output_type": "stream",
     "text": [
      "\n",
      "Test:   0%|          | 0/2 [00:00<?, ?it/s]\u001B[A\n",
      "Test:  50%|█████     | 1/2 [00:01<00:01,  1.69s/it]\u001B[A\n",
      "Test: 100%|██████████| 2/2 [00:02<00:00,  1.26s/it]\u001B[A"
     ]
    },
    {
     "name": "stdout",
     "output_type": "stream",
     "text": [
      "We use the device: 'cpu' and 0 gpu's. Important: distributed and 16-bits training is currently not implemented! \n"
     ]
    },
    {
     "name": "stderr",
     "output_type": "stream",
     "text": [
      "\n",
      "/Users/tommasoteofili/Library/Python/3.7/lib/python/site-packages/sklearn/metrics/_classification.py:1272: UndefinedMetricWarning: Recall and F-score are ill-defined and being set to 0.0 in labels with no true samples. Use `zero_division` parameter to control this behavior.\n",
      "  _warn_prf(average, modifier, msg_start, len(result))\n",
      "\n",
      "Test:   0%|          | 0/1 [00:00<?, ?it/s]\u001B[A\n",
      "Test: 100%|██████████| 1/1 [00:01<00:00,  1.23s/it]\u001B[A\n",
      "  1%|          | 1/100 [00:03<06:23,  3.87s/it]"
     ]
    },
    {
     "name": "stdout",
     "output_type": "stream",
     "text": [
      "We use the device: 'cpu' and 0 gpu's. Important: distributed and 16-bits training is currently not implemented! \n"
     ]
    },
    {
     "name": "stderr",
     "output_type": "stream",
     "text": [
      "\n",
      "Test:   0%|          | 0/2 [00:00<?, ?it/s]\u001B[A\n",
      "Test:  50%|█████     | 1/2 [00:01<00:01,  1.66s/it]\u001B[A\n",
      "Test: 100%|██████████| 2/2 [00:02<00:00,  1.25s/it]\u001B[A"
     ]
    },
    {
     "name": "stdout",
     "output_type": "stream",
     "text": [
      "We use the device: 'cpu' and 0 gpu's. Important: distributed and 16-bits training is currently not implemented! \n"
     ]
    },
    {
     "name": "stderr",
     "output_type": "stream",
     "text": [
      "\n",
      "\n",
      "Test:   0%|          | 0/1 [00:00<?, ?it/s]\u001B[A\n",
      "Test: 100%|██████████| 1/1 [00:01<00:00,  1.26s/it]\u001B[A\n",
      "  2%|▏         | 2/100 [00:07<06:19,  3.87s/it]"
     ]
    },
    {
     "name": "stdout",
     "output_type": "stream",
     "text": [
      "We use the device: 'cpu' and 0 gpu's. Important: distributed and 16-bits training is currently not implemented! \n"
     ]
    },
    {
     "name": "stderr",
     "output_type": "stream",
     "text": [
      "\n",
      "Test:   0%|          | 0/2 [00:00<?, ?it/s]\u001B[A\n",
      "Test:  50%|█████     | 1/2 [00:01<00:01,  1.70s/it]\u001B[A\n",
      "Test: 100%|██████████| 2/2 [00:02<00:00,  1.27s/it]\u001B[A"
     ]
    },
    {
     "name": "stdout",
     "output_type": "stream",
     "text": [
      "We use the device: 'cpu' and 0 gpu's. Important: distributed and 16-bits training is currently not implemented! \n"
     ]
    },
    {
     "name": "stderr",
     "output_type": "stream",
     "text": [
      "\n",
      "\n",
      "Test:   0%|          | 0/1 [00:00<?, ?it/s]\u001B[A\n",
      "Test: 100%|██████████| 1/1 [00:01<00:00,  1.24s/it]\u001B[A\n",
      "  3%|▎         | 3/100 [00:11<06:16,  3.88s/it]"
     ]
    },
    {
     "name": "stdout",
     "output_type": "stream",
     "text": [
      "We use the device: 'cpu' and 0 gpu's. Important: distributed and 16-bits training is currently not implemented! \n"
     ]
    },
    {
     "name": "stderr",
     "output_type": "stream",
     "text": [
      "\n",
      "Test:   0%|          | 0/2 [00:00<?, ?it/s]\u001B[A\n",
      "Test:  50%|█████     | 1/2 [00:01<00:01,  1.73s/it]\u001B[A\n",
      "Test: 100%|██████████| 2/2 [00:02<00:00,  1.28s/it]\u001B[A"
     ]
    },
    {
     "name": "stdout",
     "output_type": "stream",
     "text": [
      "We use the device: 'cpu' and 0 gpu's. Important: distributed and 16-bits training is currently not implemented! \n"
     ]
    },
    {
     "name": "stderr",
     "output_type": "stream",
     "text": [
      "\n",
      "\n",
      "Test:   0%|          | 0/1 [00:00<?, ?it/s]\u001B[A\n",
      "Test: 100%|██████████| 1/1 [00:01<00:00,  1.24s/it]\u001B[A\n",
      "/Users/tommasoteofili/Library/Python/3.7/lib/python/site-packages/sklearn/metrics/_classification.py:1515: UndefinedMetricWarning: F-score is ill-defined and being set to 0.0 due to no true nor predicted samples. Use `zero_division` parameter to control this behavior.\n",
      "  average, \"true nor predicted\", 'F-score is', len(true_sum)\n",
      "  4%|▍         | 4/100 [00:15<06:13,  3.89s/it]"
     ]
    },
    {
     "name": "stdout",
     "output_type": "stream",
     "text": [
      "We use the device: 'cpu' and 0 gpu's. Important: distributed and 16-bits training is currently not implemented! \n"
     ]
    },
    {
     "name": "stderr",
     "output_type": "stream",
     "text": [
      "\n",
      "Test:   0%|          | 0/2 [00:00<?, ?it/s]\u001B[A\n",
      "Test:  50%|█████     | 1/2 [00:01<00:01,  1.68s/it]\u001B[A\n",
      "Test: 100%|██████████| 2/2 [00:02<00:00,  1.26s/it]\u001B[A"
     ]
    },
    {
     "name": "stdout",
     "output_type": "stream",
     "text": [
      "We use the device: 'cpu' and 0 gpu's. Important: distributed and 16-bits training is currently not implemented! \n"
     ]
    },
    {
     "name": "stderr",
     "output_type": "stream",
     "text": [
      "\n",
      "\n",
      "Test:   0%|          | 0/1 [00:00<?, ?it/s]\u001B[A\n",
      "Test: 100%|██████████| 1/1 [00:01<00:00,  1.24s/it]\u001B[A\n",
      "  5%|▌         | 5/100 [00:19<06:08,  3.88s/it]"
     ]
    },
    {
     "name": "stdout",
     "output_type": "stream",
     "text": [
      "We use the device: 'cpu' and 0 gpu's. Important: distributed and 16-bits training is currently not implemented! \n"
     ]
    },
    {
     "name": "stderr",
     "output_type": "stream",
     "text": [
      "\n",
      "Test:   0%|          | 0/2 [00:00<?, ?it/s]\u001B[A\n",
      "Test:  50%|█████     | 1/2 [00:01<00:01,  1.68s/it]\u001B[A\n",
      "Test: 100%|██████████| 2/2 [00:02<00:00,  1.25s/it]\u001B[A"
     ]
    },
    {
     "name": "stdout",
     "output_type": "stream",
     "text": [
      "We use the device: 'cpu' and 0 gpu's. Important: distributed and 16-bits training is currently not implemented! \n"
     ]
    },
    {
     "name": "stderr",
     "output_type": "stream",
     "text": [
      "\n",
      "\n",
      "Test:   0%|          | 0/1 [00:00<?, ?it/s]\u001B[A\n",
      "Test: 100%|██████████| 1/1 [00:01<00:00,  1.28s/it]\u001B[A\n",
      "  6%|▌         | 6/100 [00:23<06:05,  3.88s/it]"
     ]
    },
    {
     "name": "stdout",
     "output_type": "stream",
     "text": [
      "We use the device: 'cpu' and 0 gpu's. Important: distributed and 16-bits training is currently not implemented! \n"
     ]
    },
    {
     "name": "stderr",
     "output_type": "stream",
     "text": [
      "\n",
      "Test:   0%|          | 0/2 [00:00<?, ?it/s]\u001B[A\n",
      "Test:  50%|█████     | 1/2 [00:01<00:01,  1.76s/it]\u001B[A\n",
      "Test: 100%|██████████| 2/2 [00:02<00:00,  1.31s/it]\u001B[A"
     ]
    },
    {
     "name": "stdout",
     "output_type": "stream",
     "text": [
      "We use the device: 'cpu' and 0 gpu's. Important: distributed and 16-bits training is currently not implemented! \n"
     ]
    },
    {
     "name": "stderr",
     "output_type": "stream",
     "text": [
      "\n",
      "\n",
      "Test:   0%|          | 0/1 [00:00<?, ?it/s]\u001B[A\n",
      "Test: 100%|██████████| 1/1 [00:01<00:00,  1.32s/it]\u001B[A\n",
      "  7%|▋         | 7/100 [00:27<06:05,  3.93s/it]"
     ]
    },
    {
     "name": "stdout",
     "output_type": "stream",
     "text": [
      "We use the device: 'cpu' and 0 gpu's. Important: distributed and 16-bits training is currently not implemented! \n"
     ]
    },
    {
     "name": "stderr",
     "output_type": "stream",
     "text": [
      "\n",
      "Test:   0%|          | 0/2 [00:00<?, ?it/s]\u001B[A\n",
      "Test:  50%|█████     | 1/2 [00:01<00:01,  1.74s/it]\u001B[A\n",
      "Test: 100%|██████████| 2/2 [00:02<00:00,  1.31s/it]\u001B[A"
     ]
    },
    {
     "name": "stdout",
     "output_type": "stream",
     "text": [
      "We use the device: 'cpu' and 0 gpu's. Important: distributed and 16-bits training is currently not implemented! \n"
     ]
    },
    {
     "name": "stderr",
     "output_type": "stream",
     "text": [
      "\n",
      "\n",
      "Test:   0%|          | 0/1 [00:00<?, ?it/s]\u001B[A\n",
      "Test: 100%|██████████| 1/1 [00:01<00:00,  1.26s/it]\u001B[A\n",
      "  8%|▊         | 8/100 [00:31<06:03,  3.95s/it]"
     ]
    },
    {
     "name": "stdout",
     "output_type": "stream",
     "text": [
      "We use the device: 'cpu' and 0 gpu's. Important: distributed and 16-bits training is currently not implemented! \n"
     ]
    },
    {
     "name": "stderr",
     "output_type": "stream",
     "text": [
      "\n",
      "Test:   0%|          | 0/2 [00:00<?, ?it/s]\u001B[A\n",
      "Test:  50%|█████     | 1/2 [00:01<00:01,  1.69s/it]\u001B[A\n",
      "Test: 100%|██████████| 2/2 [00:02<00:00,  1.26s/it]\u001B[A"
     ]
    },
    {
     "name": "stdout",
     "output_type": "stream",
     "text": [
      "We use the device: 'cpu' and 0 gpu's. Important: distributed and 16-bits training is currently not implemented! \n"
     ]
    },
    {
     "name": "stderr",
     "output_type": "stream",
     "text": [
      "\n",
      "\n",
      "Test:   0%|          | 0/1 [00:00<?, ?it/s]\u001B[A\n",
      "Test: 100%|██████████| 1/1 [00:01<00:00,  1.24s/it]\u001B[A\n",
      "  9%|▉         | 9/100 [00:35<05:57,  3.93s/it]"
     ]
    },
    {
     "name": "stdout",
     "output_type": "stream",
     "text": [
      "We use the device: 'cpu' and 0 gpu's. Important: distributed and 16-bits training is currently not implemented! \n"
     ]
    },
    {
     "name": "stderr",
     "output_type": "stream",
     "text": [
      "\n",
      "Test:   0%|          | 0/2 [00:00<?, ?it/s]\u001B[A\n",
      "Test:  50%|█████     | 1/2 [00:01<00:01,  1.68s/it]\u001B[A\n",
      "Test: 100%|██████████| 2/2 [00:02<00:00,  1.26s/it]\u001B[A"
     ]
    },
    {
     "name": "stdout",
     "output_type": "stream",
     "text": [
      "We use the device: 'cpu' and 0 gpu's. Important: distributed and 16-bits training is currently not implemented! \n"
     ]
    },
    {
     "name": "stderr",
     "output_type": "stream",
     "text": [
      "\n",
      "\n",
      "Test:   0%|          | 0/1 [00:00<?, ?it/s]\u001B[A\n",
      "Test: 100%|██████████| 1/1 [00:01<00:00,  1.25s/it]\u001B[A\n",
      " 10%|█         | 10/100 [00:39<05:51,  3.91s/it]"
     ]
    },
    {
     "name": "stdout",
     "output_type": "stream",
     "text": [
      "We use the device: 'cpu' and 0 gpu's. Important: distributed and 16-bits training is currently not implemented! \n"
     ]
    },
    {
     "name": "stderr",
     "output_type": "stream",
     "text": [
      "\n",
      "Test:   0%|          | 0/2 [00:00<?, ?it/s]\u001B[A\n",
      "Test:  50%|█████     | 1/2 [00:01<00:01,  1.73s/it]\u001B[A\n",
      "Test: 100%|██████████| 2/2 [00:02<00:00,  1.30s/it]\u001B[A"
     ]
    },
    {
     "name": "stdout",
     "output_type": "stream",
     "text": [
      "We use the device: 'cpu' and 0 gpu's. Important: distributed and 16-bits training is currently not implemented! \n"
     ]
    },
    {
     "name": "stderr",
     "output_type": "stream",
     "text": [
      "\n",
      "\n",
      "Test:   0%|          | 0/1 [00:00<?, ?it/s]\u001B[A\n",
      "Test: 100%|██████████| 1/1 [00:01<00:00,  1.29s/it]\u001B[A\n",
      " 11%|█         | 11/100 [00:43<05:50,  3.93s/it]"
     ]
    },
    {
     "name": "stdout",
     "output_type": "stream",
     "text": [
      "We use the device: 'cpu' and 0 gpu's. Important: distributed and 16-bits training is currently not implemented! \n"
     ]
    },
    {
     "name": "stderr",
     "output_type": "stream",
     "text": [
      "\n",
      "Test:   0%|          | 0/2 [00:00<?, ?it/s]\u001B[A\n",
      "Test:  50%|█████     | 1/2 [00:01<00:01,  1.99s/it]\u001B[A\n",
      "Test: 100%|██████████| 2/2 [00:02<00:00,  1.42s/it]\u001B[A"
     ]
    },
    {
     "name": "stdout",
     "output_type": "stream",
     "text": [
      "We use the device: 'cpu' and 0 gpu's. Important: distributed and 16-bits training is currently not implemented! \n"
     ]
    },
    {
     "name": "stderr",
     "output_type": "stream",
     "text": [
      "\n",
      "\n",
      "Test:   0%|          | 0/1 [00:00<?, ?it/s]\u001B[A\n",
      "Test: 100%|██████████| 1/1 [00:01<00:00,  1.28s/it]\u001B[A\n",
      " 12%|█▏        | 12/100 [00:47<05:54,  4.03s/it]"
     ]
    },
    {
     "name": "stdout",
     "output_type": "stream",
     "text": [
      "We use the device: 'cpu' and 0 gpu's. Important: distributed and 16-bits training is currently not implemented! \n"
     ]
    },
    {
     "name": "stderr",
     "output_type": "stream",
     "text": [
      "\n",
      "Test:   0%|          | 0/2 [00:00<?, ?it/s]\u001B[A\n",
      "Test:  50%|█████     | 1/2 [00:01<00:01,  1.71s/it]\u001B[A\n",
      "Test: 100%|██████████| 2/2 [00:02<00:00,  1.28s/it]\u001B[A"
     ]
    },
    {
     "name": "stdout",
     "output_type": "stream",
     "text": [
      "We use the device: 'cpu' and 0 gpu's. Important: distributed and 16-bits training is currently not implemented! \n"
     ]
    },
    {
     "name": "stderr",
     "output_type": "stream",
     "text": [
      "\n",
      "\n",
      "Test:   0%|          | 0/1 [00:00<?, ?it/s]\u001B[A\n",
      "Test: 100%|██████████| 1/1 [00:01<00:00,  1.26s/it]\u001B[A\n",
      " 13%|█▎        | 13/100 [00:51<05:47,  4.00s/it]"
     ]
    },
    {
     "name": "stdout",
     "output_type": "stream",
     "text": [
      "We use the device: 'cpu' and 0 gpu's. Important: distributed and 16-bits training is currently not implemented! \n"
     ]
    },
    {
     "name": "stderr",
     "output_type": "stream",
     "text": [
      "\n",
      "Test:   0%|          | 0/2 [00:00<?, ?it/s]\u001B[A\n",
      "Test:  50%|█████     | 1/2 [00:01<00:01,  1.70s/it]\u001B[A\n",
      "Test: 100%|██████████| 2/2 [00:02<00:00,  1.27s/it]\u001B[A"
     ]
    },
    {
     "name": "stdout",
     "output_type": "stream",
     "text": [
      "We use the device: 'cpu' and 0 gpu's. Important: distributed and 16-bits training is currently not implemented! \n"
     ]
    },
    {
     "name": "stderr",
     "output_type": "stream",
     "text": [
      "\n",
      "\n",
      "Test:   0%|          | 0/1 [00:00<?, ?it/s]\u001B[A\n",
      "Test: 100%|██████████| 1/1 [00:01<00:00,  1.28s/it]\u001B[A\n",
      " 14%|█▍        | 14/100 [00:55<05:42,  3.98s/it]"
     ]
    },
    {
     "name": "stdout",
     "output_type": "stream",
     "text": [
      "We use the device: 'cpu' and 0 gpu's. Important: distributed and 16-bits training is currently not implemented! \n"
     ]
    },
    {
     "name": "stderr",
     "output_type": "stream",
     "text": [
      "\n",
      "Test:   0%|          | 0/2 [00:00<?, ?it/s]\u001B[A\n",
      "Test:  50%|█████     | 1/2 [00:01<00:01,  1.73s/it]\u001B[A\n",
      "Test: 100%|██████████| 2/2 [00:02<00:00,  1.31s/it]\u001B[A"
     ]
    },
    {
     "name": "stdout",
     "output_type": "stream",
     "text": [
      "We use the device: 'cpu' and 0 gpu's. Important: distributed and 16-bits training is currently not implemented! \n"
     ]
    },
    {
     "name": "stderr",
     "output_type": "stream",
     "text": [
      "\n",
      "\n",
      "Test:   0%|          | 0/1 [00:00<?, ?it/s]\u001B[A\n",
      "Test: 100%|██████████| 1/1 [00:01<00:00,  1.31s/it]\u001B[A\n",
      " 15%|█▌        | 15/100 [00:59<05:39,  3.99s/it]"
     ]
    },
    {
     "name": "stdout",
     "output_type": "stream",
     "text": [
      "We use the device: 'cpu' and 0 gpu's. Important: distributed and 16-bits training is currently not implemented! \n"
     ]
    },
    {
     "name": "stderr",
     "output_type": "stream",
     "text": [
      "\n",
      "Test:   0%|          | 0/2 [00:00<?, ?it/s]\u001B[A\n",
      "Test:  50%|█████     | 1/2 [00:01<00:01,  1.73s/it]\u001B[A\n",
      "Test: 100%|██████████| 2/2 [00:02<00:00,  1.29s/it]\u001B[A"
     ]
    },
    {
     "name": "stdout",
     "output_type": "stream",
     "text": [
      "We use the device: 'cpu' and 0 gpu's. Important: distributed and 16-bits training is currently not implemented! \n"
     ]
    },
    {
     "name": "stderr",
     "output_type": "stream",
     "text": [
      "\n",
      "\n",
      "Test:   0%|          | 0/1 [00:00<?, ?it/s]\u001B[A\n",
      "Test: 100%|██████████| 1/1 [00:01<00:00,  1.29s/it]\u001B[A\n",
      " 16%|█▌        | 16/100 [01:03<05:35,  3.99s/it]"
     ]
    },
    {
     "name": "stdout",
     "output_type": "stream",
     "text": [
      "We use the device: 'cpu' and 0 gpu's. Important: distributed and 16-bits training is currently not implemented! \n"
     ]
    },
    {
     "name": "stderr",
     "output_type": "stream",
     "text": [
      "\n",
      "Test:   0%|          | 0/2 [00:00<?, ?it/s]\u001B[A\n",
      "Test:  50%|█████     | 1/2 [00:01<00:01,  1.80s/it]\u001B[A\n",
      "Test: 100%|██████████| 2/2 [00:02<00:00,  1.32s/it]\u001B[A"
     ]
    },
    {
     "name": "stdout",
     "output_type": "stream",
     "text": [
      "We use the device: 'cpu' and 0 gpu's. Important: distributed and 16-bits training is currently not implemented! \n"
     ]
    },
    {
     "name": "stderr",
     "output_type": "stream",
     "text": [
      "\n",
      "\n",
      "Test:   0%|          | 0/1 [00:00<?, ?it/s]\u001B[A\n",
      "Test: 100%|██████████| 1/1 [00:01<00:00,  1.26s/it]\u001B[A\n",
      " 17%|█▋        | 17/100 [01:07<05:31,  3.99s/it]"
     ]
    },
    {
     "name": "stdout",
     "output_type": "stream",
     "text": [
      "We use the device: 'cpu' and 0 gpu's. Important: distributed and 16-bits training is currently not implemented! \n"
     ]
    },
    {
     "name": "stderr",
     "output_type": "stream",
     "text": [
      "\n",
      "Test:   0%|          | 0/2 [00:00<?, ?it/s]\u001B[A\n",
      "Test:  50%|█████     | 1/2 [00:01<00:01,  1.72s/it]\u001B[A\n",
      "Test: 100%|██████████| 2/2 [00:02<00:00,  1.29s/it]\u001B[A"
     ]
    },
    {
     "name": "stdout",
     "output_type": "stream",
     "text": [
      "We use the device: 'cpu' and 0 gpu's. Important: distributed and 16-bits training is currently not implemented! \n"
     ]
    },
    {
     "name": "stderr",
     "output_type": "stream",
     "text": [
      "\n",
      "\n",
      "Test:   0%|          | 0/1 [00:00<?, ?it/s]\u001B[A\n",
      "Test: 100%|██████████| 1/1 [00:01<00:00,  1.27s/it]\u001B[A\n",
      " 18%|█▊        | 18/100 [01:11<05:27,  3.99s/it]"
     ]
    },
    {
     "name": "stdout",
     "output_type": "stream",
     "text": [
      "We use the device: 'cpu' and 0 gpu's. Important: distributed and 16-bits training is currently not implemented! \n"
     ]
    },
    {
     "name": "stderr",
     "output_type": "stream",
     "text": [
      "\n",
      "Test:   0%|          | 0/2 [00:00<?, ?it/s]\u001B[A\n",
      "Test:  50%|█████     | 1/2 [00:02<00:02,  2.02s/it]\u001B[A\n",
      "Test: 100%|██████████| 2/2 [00:02<00:00,  1.45s/it]\u001B[A"
     ]
    },
    {
     "name": "stdout",
     "output_type": "stream",
     "text": [
      "We use the device: 'cpu' and 0 gpu's. Important: distributed and 16-bits training is currently not implemented! \n"
     ]
    },
    {
     "name": "stderr",
     "output_type": "stream",
     "text": [
      "\n",
      "\n",
      "Test:   0%|          | 0/1 [00:00<?, ?it/s]\u001B[A\n",
      "Test: 100%|██████████| 1/1 [00:01<00:00,  1.29s/it]\u001B[A\n",
      " 19%|█▉        | 19/100 [01:15<05:30,  4.08s/it]"
     ]
    },
    {
     "name": "stdout",
     "output_type": "stream",
     "text": [
      "We use the device: 'cpu' and 0 gpu's. Important: distributed and 16-bits training is currently not implemented! \n"
     ]
    },
    {
     "name": "stderr",
     "output_type": "stream",
     "text": [
      "\n",
      "Test:   0%|          | 0/2 [00:00<?, ?it/s]\u001B[A\n",
      "Test:  50%|█████     | 1/2 [00:01<00:01,  1.74s/it]\u001B[A\n",
      "Test: 100%|██████████| 2/2 [00:02<00:00,  1.30s/it]\u001B[A"
     ]
    },
    {
     "name": "stdout",
     "output_type": "stream",
     "text": [
      "We use the device: 'cpu' and 0 gpu's. Important: distributed and 16-bits training is currently not implemented! \n"
     ]
    },
    {
     "name": "stderr",
     "output_type": "stream",
     "text": [
      "\n",
      "\n",
      "Test:   0%|          | 0/1 [00:00<?, ?it/s]\u001B[A\n",
      "Test: 100%|██████████| 1/1 [00:01<00:00,  1.28s/it]\u001B[A\n",
      " 20%|██        | 20/100 [01:19<05:24,  4.06s/it]"
     ]
    },
    {
     "name": "stdout",
     "output_type": "stream",
     "text": [
      "We use the device: 'cpu' and 0 gpu's. Important: distributed and 16-bits training is currently not implemented! \n"
     ]
    },
    {
     "name": "stderr",
     "output_type": "stream",
     "text": [
      "\n",
      "Test:   0%|          | 0/2 [00:00<?, ?it/s]\u001B[A\n",
      "Test:  50%|█████     | 1/2 [00:01<00:01,  1.72s/it]\u001B[A\n",
      "Test: 100%|██████████| 2/2 [00:02<00:00,  1.29s/it]\u001B[A"
     ]
    },
    {
     "name": "stdout",
     "output_type": "stream",
     "text": [
      "We use the device: 'cpu' and 0 gpu's. Important: distributed and 16-bits training is currently not implemented! \n"
     ]
    },
    {
     "name": "stderr",
     "output_type": "stream",
     "text": [
      "\n",
      "\n",
      "Test:   0%|          | 0/1 [00:00<?, ?it/s]\u001B[A\n",
      "Test: 100%|██████████| 1/1 [00:01<00:00,  1.28s/it]\u001B[A\n",
      " 21%|██        | 21/100 [01:23<05:18,  4.03s/it]"
     ]
    },
    {
     "name": "stdout",
     "output_type": "stream",
     "text": [
      "We use the device: 'cpu' and 0 gpu's. Important: distributed and 16-bits training is currently not implemented! \n"
     ]
    },
    {
     "name": "stderr",
     "output_type": "stream",
     "text": [
      "\n",
      "Test:   0%|          | 0/2 [00:00<?, ?it/s]\u001B[A\n",
      "Test:  50%|█████     | 1/2 [00:02<00:02,  2.08s/it]\u001B[A\n",
      "Test: 100%|██████████| 2/2 [00:02<00:00,  1.48s/it]\u001B[A"
     ]
    },
    {
     "name": "stdout",
     "output_type": "stream",
     "text": [
      "We use the device: 'cpu' and 0 gpu's. Important: distributed and 16-bits training is currently not implemented! \n"
     ]
    },
    {
     "name": "stderr",
     "output_type": "stream",
     "text": [
      "\n",
      "\n",
      "Test:   0%|          | 0/1 [00:00<?, ?it/s]\u001B[A\n",
      "Test: 100%|██████████| 1/1 [00:01<00:00,  1.28s/it]\u001B[A\n",
      " 22%|██▏       | 22/100 [01:27<05:21,  4.12s/it]"
     ]
    },
    {
     "name": "stdout",
     "output_type": "stream",
     "text": [
      "We use the device: 'cpu' and 0 gpu's. Important: distributed and 16-bits training is currently not implemented! \n"
     ]
    },
    {
     "name": "stderr",
     "output_type": "stream",
     "text": [
      "\n",
      "Test:   0%|          | 0/2 [00:00<?, ?it/s]\u001B[A\n",
      "Test:  50%|█████     | 1/2 [00:01<00:01,  1.72s/it]\u001B[A\n",
      "Test: 100%|██████████| 2/2 [00:02<00:00,  1.28s/it]\u001B[A"
     ]
    },
    {
     "name": "stdout",
     "output_type": "stream",
     "text": [
      "We use the device: 'cpu' and 0 gpu's. Important: distributed and 16-bits training is currently not implemented! \n"
     ]
    },
    {
     "name": "stderr",
     "output_type": "stream",
     "text": [
      "\n",
      "\n",
      "Test:   0%|          | 0/1 [00:00<?, ?it/s]\u001B[A\n",
      "Test: 100%|██████████| 1/1 [00:01<00:00,  1.28s/it]\u001B[A\n",
      " 23%|██▎       | 23/100 [01:31<05:13,  4.07s/it]"
     ]
    },
    {
     "name": "stdout",
     "output_type": "stream",
     "text": [
      "We use the device: 'cpu' and 0 gpu's. Important: distributed and 16-bits training is currently not implemented! \n"
     ]
    },
    {
     "name": "stderr",
     "output_type": "stream",
     "text": [
      "\n",
      "Test:   0%|          | 0/2 [00:00<?, ?it/s]\u001B[A\n",
      "Test:  50%|█████     | 1/2 [00:01<00:01,  1.72s/it]\u001B[A\n",
      "Test: 100%|██████████| 2/2 [00:02<00:00,  1.33s/it]\u001B[A"
     ]
    },
    {
     "name": "stdout",
     "output_type": "stream",
     "text": [
      "We use the device: 'cpu' and 0 gpu's. Important: distributed and 16-bits training is currently not implemented! \n"
     ]
    },
    {
     "name": "stderr",
     "output_type": "stream",
     "text": [
      "\n",
      "\n",
      "Test:   0%|          | 0/1 [00:00<?, ?it/s]\u001B[A\n",
      "Test: 100%|██████████| 1/1 [00:01<00:00,  1.28s/it]\u001B[A\n",
      " 24%|██▍       | 24/100 [01:35<05:08,  4.06s/it]"
     ]
    },
    {
     "name": "stdout",
     "output_type": "stream",
     "text": [
      "We use the device: 'cpu' and 0 gpu's. Important: distributed and 16-bits training is currently not implemented! \n"
     ]
    },
    {
     "name": "stderr",
     "output_type": "stream",
     "text": [
      "\n",
      "Test:   0%|          | 0/2 [00:00<?, ?it/s]\u001B[A\n",
      "Test:  50%|█████     | 1/2 [00:01<00:01,  1.71s/it]\u001B[A\n",
      "Test: 100%|██████████| 2/2 [00:02<00:00,  1.28s/it]\u001B[A"
     ]
    },
    {
     "name": "stdout",
     "output_type": "stream",
     "text": [
      "We use the device: 'cpu' and 0 gpu's. Important: distributed and 16-bits training is currently not implemented! \n"
     ]
    },
    {
     "name": "stderr",
     "output_type": "stream",
     "text": [
      "\n",
      "\n",
      "Test:   0%|          | 0/1 [00:00<?, ?it/s]\u001B[A\n",
      "Test: 100%|██████████| 1/1 [00:01<00:00,  1.27s/it]\u001B[A\n",
      " 25%|██▌       | 25/100 [01:39<05:02,  4.03s/it]"
     ]
    },
    {
     "name": "stdout",
     "output_type": "stream",
     "text": [
      "We use the device: 'cpu' and 0 gpu's. Important: distributed and 16-bits training is currently not implemented! \n"
     ]
    },
    {
     "name": "stderr",
     "output_type": "stream",
     "text": [
      "\n",
      "Test:   0%|          | 0/2 [00:00<?, ?it/s]\u001B[A\n",
      "Test:  50%|█████     | 1/2 [00:01<00:01,  1.77s/it]\u001B[A\n",
      "Test: 100%|██████████| 2/2 [00:02<00:00,  1.33s/it]\u001B[A"
     ]
    },
    {
     "name": "stdout",
     "output_type": "stream",
     "text": [
      "We use the device: 'cpu' and 0 gpu's. Important: distributed and 16-bits training is currently not implemented! \n"
     ]
    },
    {
     "name": "stderr",
     "output_type": "stream",
     "text": [
      "\n",
      "\n",
      "Test:   0%|          | 0/1 [00:00<?, ?it/s]\u001B[A\n",
      "Test: 100%|██████████| 1/1 [00:01<00:00,  1.28s/it]\u001B[A\n",
      " 26%|██▌       | 26/100 [01:43<04:58,  4.03s/it]"
     ]
    },
    {
     "name": "stdout",
     "output_type": "stream",
     "text": [
      "We use the device: 'cpu' and 0 gpu's. Important: distributed and 16-bits training is currently not implemented! \n"
     ]
    },
    {
     "name": "stderr",
     "output_type": "stream",
     "text": [
      "\n",
      "Test:   0%|          | 0/2 [00:00<?, ?it/s]\u001B[A\n",
      "Test:  50%|█████     | 1/2 [00:01<00:01,  1.86s/it]\u001B[A\n",
      "Test: 100%|██████████| 2/2 [00:02<00:00,  1.35s/it]\u001B[A"
     ]
    },
    {
     "name": "stdout",
     "output_type": "stream",
     "text": [
      "We use the device: 'cpu' and 0 gpu's. Important: distributed and 16-bits training is currently not implemented! \n"
     ]
    },
    {
     "name": "stderr",
     "output_type": "stream",
     "text": [
      "\n",
      "\n",
      "Test:   0%|          | 0/1 [00:00<?, ?it/s]\u001B[A\n",
      "Test: 100%|██████████| 1/1 [00:01<00:00,  1.27s/it]\u001B[A\n",
      " 27%|██▋       | 27/100 [01:47<04:55,  4.05s/it]"
     ]
    },
    {
     "name": "stdout",
     "output_type": "stream",
     "text": [
      "We use the device: 'cpu' and 0 gpu's. Important: distributed and 16-bits training is currently not implemented! \n"
     ]
    },
    {
     "name": "stderr",
     "output_type": "stream",
     "text": [
      "\n",
      "Test:   0%|          | 0/2 [00:00<?, ?it/s]\u001B[A\n",
      "Test:  50%|█████     | 1/2 [00:01<00:01,  1.70s/it]\u001B[A\n",
      "Test: 100%|██████████| 2/2 [00:02<00:00,  1.27s/it]\u001B[A"
     ]
    },
    {
     "name": "stdout",
     "output_type": "stream",
     "text": [
      "We use the device: 'cpu' and 0 gpu's. Important: distributed and 16-bits training is currently not implemented! \n"
     ]
    },
    {
     "name": "stderr",
     "output_type": "stream",
     "text": [
      "\n",
      "\n",
      "Test:   0%|          | 0/1 [00:00<?, ?it/s]\u001B[A\n",
      "Test: 100%|██████████| 1/1 [00:01<00:00,  1.26s/it]\u001B[A\n",
      " 28%|██▊       | 28/100 [01:51<04:48,  4.01s/it]"
     ]
    },
    {
     "name": "stdout",
     "output_type": "stream",
     "text": [
      "We use the device: 'cpu' and 0 gpu's. Important: distributed and 16-bits training is currently not implemented! \n"
     ]
    },
    {
     "name": "stderr",
     "output_type": "stream",
     "text": [
      "\n",
      "Test:   0%|          | 0/2 [00:00<?, ?it/s]\u001B[A\n",
      "Test:  50%|█████     | 1/2 [00:01<00:01,  1.71s/it]\u001B[A\n",
      "Test: 100%|██████████| 2/2 [00:02<00:00,  1.28s/it]\u001B[A"
     ]
    },
    {
     "name": "stdout",
     "output_type": "stream",
     "text": [
      "We use the device: 'cpu' and 0 gpu's. Important: distributed and 16-bits training is currently not implemented! \n"
     ]
    },
    {
     "name": "stderr",
     "output_type": "stream",
     "text": [
      "\n",
      "\n",
      "Test:   0%|          | 0/1 [00:00<?, ?it/s]\u001B[A\n",
      "Test: 100%|██████████| 1/1 [00:01<00:00,  1.25s/it]\u001B[A\n",
      " 29%|██▉       | 29/100 [01:55<04:42,  3.98s/it]"
     ]
    },
    {
     "name": "stdout",
     "output_type": "stream",
     "text": [
      "We use the device: 'cpu' and 0 gpu's. Important: distributed and 16-bits training is currently not implemented! \n"
     ]
    },
    {
     "name": "stderr",
     "output_type": "stream",
     "text": [
      "\n",
      "Test:   0%|          | 0/2 [00:00<?, ?it/s]\u001B[A\n",
      "Test:  50%|█████     | 1/2 [00:01<00:01,  1.70s/it]\u001B[A\n",
      "Test: 100%|██████████| 2/2 [00:02<00:00,  1.30s/it]\u001B[A"
     ]
    },
    {
     "name": "stdout",
     "output_type": "stream",
     "text": [
      "We use the device: 'cpu' and 0 gpu's. Important: distributed and 16-bits training is currently not implemented! \n"
     ]
    },
    {
     "name": "stderr",
     "output_type": "stream",
     "text": [
      "\n",
      "\n",
      "Test:   0%|          | 0/1 [00:00<?, ?it/s]\u001B[A\n",
      "Test: 100%|██████████| 1/1 [00:01<00:00,  1.26s/it]\u001B[A\n",
      " 30%|███       | 30/100 [01:59<04:38,  3.98s/it]"
     ]
    },
    {
     "name": "stdout",
     "output_type": "stream",
     "text": [
      "We use the device: 'cpu' and 0 gpu's. Important: distributed and 16-bits training is currently not implemented! \n"
     ]
    },
    {
     "name": "stderr",
     "output_type": "stream",
     "text": [
      "\n",
      "Test:   0%|          | 0/2 [00:00<?, ?it/s]\u001B[A\n",
      "Test:  50%|█████     | 1/2 [00:01<00:01,  1.70s/it]\u001B[A\n",
      "Test: 100%|██████████| 2/2 [00:02<00:00,  1.27s/it]\u001B[A"
     ]
    },
    {
     "name": "stdout",
     "output_type": "stream",
     "text": [
      "We use the device: 'cpu' and 0 gpu's. Important: distributed and 16-bits training is currently not implemented! \n"
     ]
    },
    {
     "name": "stderr",
     "output_type": "stream",
     "text": [
      "\n",
      "\n",
      "Test:   0%|          | 0/1 [00:00<?, ?it/s]\u001B[A\n",
      "Test: 100%|██████████| 1/1 [00:01<00:00,  1.25s/it]\u001B[A\n",
      " 31%|███       | 31/100 [02:03<04:33,  3.96s/it]"
     ]
    },
    {
     "name": "stdout",
     "output_type": "stream",
     "text": [
      "We use the device: 'cpu' and 0 gpu's. Important: distributed and 16-bits training is currently not implemented! \n"
     ]
    },
    {
     "name": "stderr",
     "output_type": "stream",
     "text": [
      "\n",
      "Test:   0%|          | 0/2 [00:00<?, ?it/s]\u001B[A\n",
      "Test:  50%|█████     | 1/2 [00:01<00:01,  1.70s/it]\u001B[A\n",
      "Test: 100%|██████████| 2/2 [00:02<00:00,  1.27s/it]\u001B[A"
     ]
    },
    {
     "name": "stdout",
     "output_type": "stream",
     "text": [
      "We use the device: 'cpu' and 0 gpu's. Important: distributed and 16-bits training is currently not implemented! \n"
     ]
    },
    {
     "name": "stderr",
     "output_type": "stream",
     "text": [
      "\n",
      "\n",
      "Test:   0%|          | 0/1 [00:00<?, ?it/s]\u001B[A\n",
      "Test: 100%|██████████| 1/1 [00:01<00:00,  1.26s/it]\u001B[A\n",
      " 32%|███▏      | 32/100 [02:07<04:28,  3.94s/it]"
     ]
    },
    {
     "name": "stdout",
     "output_type": "stream",
     "text": [
      "We use the device: 'cpu' and 0 gpu's. Important: distributed and 16-bits training is currently not implemented! \n"
     ]
    },
    {
     "name": "stderr",
     "output_type": "stream",
     "text": [
      "\n",
      "Test:   0%|          | 0/2 [00:00<?, ?it/s]\u001B[A\n",
      "Test:  50%|█████     | 1/2 [00:01<00:01,  1.69s/it]\u001B[A\n",
      "Test: 100%|██████████| 2/2 [00:02<00:00,  1.27s/it]\u001B[A"
     ]
    },
    {
     "name": "stdout",
     "output_type": "stream",
     "text": [
      "We use the device: 'cpu' and 0 gpu's. Important: distributed and 16-bits training is currently not implemented! \n"
     ]
    },
    {
     "name": "stderr",
     "output_type": "stream",
     "text": [
      "\n",
      "\n",
      "Test:   0%|          | 0/1 [00:00<?, ?it/s]\u001B[A\n",
      "Test: 100%|██████████| 1/1 [00:01<00:00,  1.32s/it]\u001B[A\n",
      " 33%|███▎      | 33/100 [02:11<04:24,  3.95s/it]"
     ]
    },
    {
     "name": "stdout",
     "output_type": "stream",
     "text": [
      "We use the device: 'cpu' and 0 gpu's. Important: distributed and 16-bits training is currently not implemented! \n"
     ]
    },
    {
     "name": "stderr",
     "output_type": "stream",
     "text": [
      "\n",
      "Test:   0%|          | 0/2 [00:00<?, ?it/s]\u001B[A\n",
      "Test:  50%|█████     | 1/2 [00:01<00:01,  1.73s/it]\u001B[A\n",
      "Test: 100%|██████████| 2/2 [00:02<00:00,  1.30s/it]\u001B[A"
     ]
    },
    {
     "name": "stdout",
     "output_type": "stream",
     "text": [
      "We use the device: 'cpu' and 0 gpu's. Important: distributed and 16-bits training is currently not implemented! \n"
     ]
    },
    {
     "name": "stderr",
     "output_type": "stream",
     "text": [
      "\n",
      "\n",
      "Test:   0%|          | 0/1 [00:00<?, ?it/s]\u001B[A\n",
      "Test: 100%|██████████| 1/1 [00:01<00:00,  1.27s/it]\u001B[A\n",
      " 34%|███▍      | 34/100 [02:15<04:21,  3.96s/it]"
     ]
    },
    {
     "name": "stdout",
     "output_type": "stream",
     "text": [
      "We use the device: 'cpu' and 0 gpu's. Important: distributed and 16-bits training is currently not implemented! \n"
     ]
    },
    {
     "name": "stderr",
     "output_type": "stream",
     "text": [
      "\n",
      "Test:   0%|          | 0/2 [00:00<?, ?it/s]\u001B[A\n",
      "Test:  50%|█████     | 1/2 [00:01<00:01,  1.73s/it]\u001B[A\n",
      "Test: 100%|██████████| 2/2 [00:02<00:00,  1.29s/it]\u001B[A"
     ]
    },
    {
     "name": "stdout",
     "output_type": "stream",
     "text": [
      "We use the device: 'cpu' and 0 gpu's. Important: distributed and 16-bits training is currently not implemented! \n"
     ]
    },
    {
     "name": "stderr",
     "output_type": "stream",
     "text": [
      "\n",
      "\n",
      "Test:   0%|          | 0/1 [00:00<?, ?it/s]\u001B[A\n",
      "Test: 100%|██████████| 1/1 [00:01<00:00,  1.27s/it]\u001B[A\n",
      " 35%|███▌      | 35/100 [02:19<04:17,  3.96s/it]"
     ]
    },
    {
     "name": "stdout",
     "output_type": "stream",
     "text": [
      "We use the device: 'cpu' and 0 gpu's. Important: distributed and 16-bits training is currently not implemented! \n"
     ]
    },
    {
     "name": "stderr",
     "output_type": "stream",
     "text": [
      "\n",
      "Test:   0%|          | 0/2 [00:00<?, ?it/s]\u001B[A\n",
      "Test:  50%|█████     | 1/2 [00:01<00:01,  1.72s/it]\u001B[A\n",
      "Test: 100%|██████████| 2/2 [00:02<00:00,  1.28s/it]\u001B[A"
     ]
    },
    {
     "name": "stdout",
     "output_type": "stream",
     "text": [
      "We use the device: 'cpu' and 0 gpu's. Important: distributed and 16-bits training is currently not implemented! \n"
     ]
    },
    {
     "name": "stderr",
     "output_type": "stream",
     "text": [
      "\n",
      "\n",
      "Test:   0%|          | 0/1 [00:00<?, ?it/s]\u001B[A\n",
      "Test: 100%|██████████| 1/1 [00:01<00:00,  1.27s/it]\u001B[A\n",
      " 36%|███▌      | 36/100 [02:23<04:13,  3.96s/it]"
     ]
    },
    {
     "name": "stdout",
     "output_type": "stream",
     "text": [
      "We use the device: 'cpu' and 0 gpu's. Important: distributed and 16-bits training is currently not implemented! \n"
     ]
    },
    {
     "name": "stderr",
     "output_type": "stream",
     "text": [
      "\n",
      "Test:   0%|          | 0/2 [00:00<?, ?it/s]\u001B[A\n",
      "Test:  50%|█████     | 1/2 [00:01<00:01,  1.71s/it]\u001B[A\n",
      "Test: 100%|██████████| 2/2 [00:02<00:00,  1.29s/it]\u001B[A"
     ]
    },
    {
     "name": "stdout",
     "output_type": "stream",
     "text": [
      "We use the device: 'cpu' and 0 gpu's. Important: distributed and 16-bits training is currently not implemented! \n"
     ]
    },
    {
     "name": "stderr",
     "output_type": "stream",
     "text": [
      "\n",
      "\n",
      "Test:   0%|          | 0/1 [00:00<?, ?it/s]\u001B[A\n",
      "Test: 100%|██████████| 1/1 [00:01<00:00,  1.26s/it]\u001B[A\n",
      " 37%|███▋      | 37/100 [02:27<04:09,  3.95s/it]"
     ]
    },
    {
     "name": "stdout",
     "output_type": "stream",
     "text": [
      "We use the device: 'cpu' and 0 gpu's. Important: distributed and 16-bits training is currently not implemented! \n"
     ]
    },
    {
     "name": "stderr",
     "output_type": "stream",
     "text": [
      "\n",
      "Test:   0%|          | 0/2 [00:00<?, ?it/s]\u001B[A\n",
      "Test:  50%|█████     | 1/2 [00:01<00:01,  1.73s/it]\u001B[A\n",
      "Test: 100%|██████████| 2/2 [00:02<00:00,  1.28s/it]\u001B[A"
     ]
    },
    {
     "name": "stdout",
     "output_type": "stream",
     "text": [
      "We use the device: 'cpu' and 0 gpu's. Important: distributed and 16-bits training is currently not implemented! \n"
     ]
    },
    {
     "name": "stderr",
     "output_type": "stream",
     "text": [
      "\n",
      "\n",
      "Test:   0%|          | 0/1 [00:00<?, ?it/s]\u001B[A\n",
      "Test: 100%|██████████| 1/1 [00:01<00:00,  1.29s/it]\u001B[A\n",
      " 38%|███▊      | 38/100 [02:31<04:05,  3.96s/it]"
     ]
    },
    {
     "name": "stdout",
     "output_type": "stream",
     "text": [
      "We use the device: 'cpu' and 0 gpu's. Important: distributed and 16-bits training is currently not implemented! \n"
     ]
    },
    {
     "name": "stderr",
     "output_type": "stream",
     "text": [
      "\n",
      "Test:   0%|          | 0/2 [00:00<?, ?it/s]\u001B[A\n",
      "Test:  50%|█████     | 1/2 [00:01<00:01,  1.73s/it]\u001B[A\n",
      "Test: 100%|██████████| 2/2 [00:02<00:00,  1.28s/it]\u001B[A"
     ]
    },
    {
     "name": "stdout",
     "output_type": "stream",
     "text": [
      "We use the device: 'cpu' and 0 gpu's. Important: distributed and 16-bits training is currently not implemented! \n"
     ]
    },
    {
     "name": "stderr",
     "output_type": "stream",
     "text": [
      "\n",
      "\n",
      "Test:   0%|          | 0/1 [00:00<?, ?it/s]\u001B[A\n",
      "Test: 100%|██████████| 1/1 [00:01<00:00,  1.25s/it]\u001B[A\n",
      " 39%|███▉      | 39/100 [02:35<04:00,  3.95s/it]"
     ]
    },
    {
     "name": "stdout",
     "output_type": "stream",
     "text": [
      "We use the device: 'cpu' and 0 gpu's. Important: distributed and 16-bits training is currently not implemented! \n"
     ]
    },
    {
     "name": "stderr",
     "output_type": "stream",
     "text": [
      "\n",
      "Test:   0%|          | 0/2 [00:00<?, ?it/s]\u001B[A\n",
      "Test:  50%|█████     | 1/2 [00:01<00:01,  1.71s/it]\u001B[A\n",
      "Test: 100%|██████████| 2/2 [00:02<00:00,  1.28s/it]\u001B[A"
     ]
    },
    {
     "name": "stdout",
     "output_type": "stream",
     "text": [
      "We use the device: 'cpu' and 0 gpu's. Important: distributed and 16-bits training is currently not implemented! \n"
     ]
    },
    {
     "name": "stderr",
     "output_type": "stream",
     "text": [
      "\n",
      "\n",
      "Test:   0%|          | 0/1 [00:00<?, ?it/s]\u001B[A\n",
      "Test: 100%|██████████| 1/1 [00:01<00:00,  1.27s/it]\u001B[A\n",
      " 40%|████      | 40/100 [02:39<03:56,  3.94s/it]"
     ]
    },
    {
     "name": "stdout",
     "output_type": "stream",
     "text": [
      "We use the device: 'cpu' and 0 gpu's. Important: distributed and 16-bits training is currently not implemented! \n"
     ]
    },
    {
     "name": "stderr",
     "output_type": "stream",
     "text": [
      "\n",
      "Test:   0%|          | 0/2 [00:00<?, ?it/s]\u001B[A\n",
      "Test:  50%|█████     | 1/2 [00:01<00:01,  1.70s/it]\u001B[A\n",
      "Test: 100%|██████████| 2/2 [00:02<00:00,  1.27s/it]\u001B[A"
     ]
    },
    {
     "name": "stdout",
     "output_type": "stream",
     "text": [
      "We use the device: 'cpu' and 0 gpu's. Important: distributed and 16-bits training is currently not implemented! \n"
     ]
    },
    {
     "name": "stderr",
     "output_type": "stream",
     "text": [
      "\n",
      "\n",
      "Test:   0%|          | 0/1 [00:00<?, ?it/s]\u001B[A\n",
      "Test: 100%|██████████| 1/1 [00:01<00:00,  1.25s/it]\u001B[A\n",
      " 41%|████      | 41/100 [02:43<03:52,  3.93s/it]"
     ]
    },
    {
     "name": "stdout",
     "output_type": "stream",
     "text": [
      "We use the device: 'cpu' and 0 gpu's. Important: distributed and 16-bits training is currently not implemented! \n"
     ]
    },
    {
     "name": "stderr",
     "output_type": "stream",
     "text": [
      "\n",
      "Test:   0%|          | 0/2 [00:00<?, ?it/s]\u001B[A\n",
      "Test:  50%|█████     | 1/2 [00:01<00:01,  1.69s/it]\u001B[A\n",
      "Test: 100%|██████████| 2/2 [00:02<00:00,  1.27s/it]\u001B[A"
     ]
    },
    {
     "name": "stdout",
     "output_type": "stream",
     "text": [
      "We use the device: 'cpu' and 0 gpu's. Important: distributed and 16-bits training is currently not implemented! \n"
     ]
    },
    {
     "name": "stderr",
     "output_type": "stream",
     "text": [
      "\n",
      "\n",
      "Test:   0%|          | 0/1 [00:00<?, ?it/s]\u001B[A\n",
      "Test: 100%|██████████| 1/1 [00:01<00:00,  1.30s/it]\u001B[A\n",
      " 42%|████▏     | 42/100 [02:46<03:48,  3.94s/it]"
     ]
    },
    {
     "name": "stdout",
     "output_type": "stream",
     "text": [
      "We use the device: 'cpu' and 0 gpu's. Important: distributed and 16-bits training is currently not implemented! \n"
     ]
    },
    {
     "name": "stderr",
     "output_type": "stream",
     "text": [
      "\n",
      "Test:   0%|          | 0/2 [00:00<?, ?it/s]\u001B[A\n",
      "Test:  50%|█████     | 1/2 [00:01<00:01,  1.74s/it]\u001B[A\n",
      "Test: 100%|██████████| 2/2 [00:02<00:00,  1.30s/it]\u001B[A"
     ]
    },
    {
     "name": "stdout",
     "output_type": "stream",
     "text": [
      "We use the device: 'cpu' and 0 gpu's. Important: distributed and 16-bits training is currently not implemented! \n"
     ]
    },
    {
     "name": "stderr",
     "output_type": "stream",
     "text": [
      "\n",
      "\n",
      "Test:   0%|          | 0/1 [00:00<?, ?it/s]\u001B[A\n",
      "Test: 100%|██████████| 1/1 [00:01<00:00,  1.26s/it]\u001B[A\n",
      " 43%|████▎     | 43/100 [02:50<03:45,  3.95s/it]"
     ]
    },
    {
     "name": "stdout",
     "output_type": "stream",
     "text": [
      "We use the device: 'cpu' and 0 gpu's. Important: distributed and 16-bits training is currently not implemented! \n"
     ]
    },
    {
     "name": "stderr",
     "output_type": "stream",
     "text": [
      "\n",
      "Test:   0%|          | 0/2 [00:00<?, ?it/s]\u001B[A\n",
      "Test:  50%|█████     | 1/2 [00:01<00:01,  1.70s/it]\u001B[A\n",
      "Test: 100%|██████████| 2/2 [00:02<00:00,  1.30s/it]\u001B[A"
     ]
    },
    {
     "name": "stdout",
     "output_type": "stream",
     "text": [
      "We use the device: 'cpu' and 0 gpu's. Important: distributed and 16-bits training is currently not implemented! \n"
     ]
    },
    {
     "name": "stderr",
     "output_type": "stream",
     "text": [
      "\n",
      "\n",
      "Test:   0%|          | 0/1 [00:00<?, ?it/s]\u001B[A\n",
      "Test: 100%|██████████| 1/1 [00:01<00:00,  1.33s/it]\u001B[A\n",
      " 44%|████▍     | 44/100 [02:54<03:42,  3.97s/it]"
     ]
    },
    {
     "name": "stdout",
     "output_type": "stream",
     "text": [
      "We use the device: 'cpu' and 0 gpu's. Important: distributed and 16-bits training is currently not implemented! \n"
     ]
    },
    {
     "name": "stderr",
     "output_type": "stream",
     "text": [
      "\n",
      "Test:   0%|          | 0/2 [00:00<?, ?it/s]\u001B[A\n",
      "Test:  50%|█████     | 1/2 [00:01<00:01,  1.86s/it]\u001B[A\n",
      "Test: 100%|██████████| 2/2 [00:02<00:00,  1.39s/it]\u001B[A"
     ]
    },
    {
     "name": "stdout",
     "output_type": "stream",
     "text": [
      "We use the device: 'cpu' and 0 gpu's. Important: distributed and 16-bits training is currently not implemented! \n"
     ]
    },
    {
     "name": "stderr",
     "output_type": "stream",
     "text": [
      "\n",
      "\n",
      "Test:   0%|          | 0/1 [00:00<?, ?it/s]\u001B[A\n",
      "Test: 100%|██████████| 1/1 [00:01<00:00,  1.38s/it]\u001B[A\n",
      " 45%|████▌     | 45/100 [02:59<03:43,  4.06s/it]"
     ]
    },
    {
     "name": "stdout",
     "output_type": "stream",
     "text": [
      "We use the device: 'cpu' and 0 gpu's. Important: distributed and 16-bits training is currently not implemented! \n"
     ]
    },
    {
     "name": "stderr",
     "output_type": "stream",
     "text": [
      "\n",
      "Test:   0%|          | 0/2 [00:00<?, ?it/s]\u001B[A\n",
      "Test:  50%|█████     | 1/2 [00:01<00:01,  1.72s/it]\u001B[A\n",
      "Test: 100%|██████████| 2/2 [00:02<00:00,  1.29s/it]\u001B[A"
     ]
    },
    {
     "name": "stdout",
     "output_type": "stream",
     "text": [
      "We use the device: 'cpu' and 0 gpu's. Important: distributed and 16-bits training is currently not implemented! \n"
     ]
    },
    {
     "name": "stderr",
     "output_type": "stream",
     "text": [
      "\n",
      "\n",
      "Test:   0%|          | 0/1 [00:00<?, ?it/s]\u001B[A\n",
      "Test: 100%|██████████| 1/1 [00:01<00:00,  1.29s/it]\u001B[A\n",
      " 46%|████▌     | 46/100 [03:03<03:38,  4.04s/it]"
     ]
    },
    {
     "name": "stdout",
     "output_type": "stream",
     "text": [
      "We use the device: 'cpu' and 0 gpu's. Important: distributed and 16-bits training is currently not implemented! \n"
     ]
    },
    {
     "name": "stderr",
     "output_type": "stream",
     "text": [
      "\n",
      "Test:   0%|          | 0/2 [00:00<?, ?it/s]\u001B[A\n",
      "Test:  50%|█████     | 1/2 [00:01<00:01,  1.72s/it]\u001B[A\n",
      "Test: 100%|██████████| 2/2 [00:02<00:00,  1.30s/it]\u001B[A"
     ]
    },
    {
     "name": "stdout",
     "output_type": "stream",
     "text": [
      "We use the device: 'cpu' and 0 gpu's. Important: distributed and 16-bits training is currently not implemented! \n"
     ]
    },
    {
     "name": "stderr",
     "output_type": "stream",
     "text": [
      "\n",
      "\n",
      "Test:   0%|          | 0/1 [00:00<?, ?it/s]\u001B[A\n",
      "Test: 100%|██████████| 1/1 [00:01<00:00,  1.31s/it]\u001B[A\n",
      " 47%|████▋     | 47/100 [03:07<03:33,  4.03s/it]"
     ]
    },
    {
     "name": "stdout",
     "output_type": "stream",
     "text": [
      "We use the device: 'cpu' and 0 gpu's. Important: distributed and 16-bits training is currently not implemented! \n"
     ]
    },
    {
     "name": "stderr",
     "output_type": "stream",
     "text": [
      "\n",
      "Test:   0%|          | 0/2 [00:00<?, ?it/s]\u001B[A\n",
      "Test:  50%|█████     | 1/2 [00:01<00:01,  1.74s/it]\u001B[A\n",
      "Test: 100%|██████████| 2/2 [00:02<00:00,  1.32s/it]\u001B[A"
     ]
    },
    {
     "name": "stdout",
     "output_type": "stream",
     "text": [
      "We use the device: 'cpu' and 0 gpu's. Important: distributed and 16-bits training is currently not implemented! \n"
     ]
    },
    {
     "name": "stderr",
     "output_type": "stream",
     "text": [
      "\n",
      "\n",
      "Test:   0%|          | 0/1 [00:00<?, ?it/s]\u001B[A\n",
      "Test: 100%|██████████| 1/1 [00:01<00:00,  1.26s/it]\u001B[A\n",
      " 48%|████▊     | 48/100 [03:11<03:29,  4.03s/it]"
     ]
    },
    {
     "name": "stdout",
     "output_type": "stream",
     "text": [
      "We use the device: 'cpu' and 0 gpu's. Important: distributed and 16-bits training is currently not implemented! \n"
     ]
    },
    {
     "name": "stderr",
     "output_type": "stream",
     "text": [
      "\n",
      "Test:   0%|          | 0/2 [00:00<?, ?it/s]\u001B[A\n",
      "Test:  50%|█████     | 1/2 [00:01<00:01,  1.71s/it]\u001B[A\n",
      "Test: 100%|██████████| 2/2 [00:02<00:00,  1.38s/it]\u001B[A"
     ]
    },
    {
     "name": "stdout",
     "output_type": "stream",
     "text": [
      "We use the device: 'cpu' and 0 gpu's. Important: distributed and 16-bits training is currently not implemented! \n"
     ]
    },
    {
     "name": "stderr",
     "output_type": "stream",
     "text": [
      "\n",
      "\n",
      "Test:   0%|          | 0/1 [00:00<?, ?it/s]\u001B[A\n",
      "Test: 100%|██████████| 1/1 [00:01<00:00,  1.28s/it]\u001B[A\n",
      " 49%|████▉     | 49/100 [03:15<03:27,  4.07s/it]"
     ]
    },
    {
     "name": "stdout",
     "output_type": "stream",
     "text": [
      "We use the device: 'cpu' and 0 gpu's. Important: distributed and 16-bits training is currently not implemented! \n"
     ]
    },
    {
     "name": "stderr",
     "output_type": "stream",
     "text": [
      "\n",
      "Test:   0%|          | 0/2 [00:00<?, ?it/s]\u001B[A\n",
      "Test:  50%|█████     | 1/2 [00:01<00:01,  1.73s/it]\u001B[A\n",
      "Test: 100%|██████████| 2/2 [00:02<00:00,  1.29s/it]\u001B[A"
     ]
    },
    {
     "name": "stdout",
     "output_type": "stream",
     "text": [
      "We use the device: 'cpu' and 0 gpu's. Important: distributed and 16-bits training is currently not implemented! \n"
     ]
    },
    {
     "name": "stderr",
     "output_type": "stream",
     "text": [
      "\n",
      "\n",
      "Test:   0%|          | 0/1 [00:00<?, ?it/s]\u001B[A\n",
      "Test: 100%|██████████| 1/1 [00:01<00:00,  1.51s/it]\u001B[A\n",
      " 50%|█████     | 50/100 [03:19<03:25,  4.10s/it]"
     ]
    },
    {
     "name": "stdout",
     "output_type": "stream",
     "text": [
      "We use the device: 'cpu' and 0 gpu's. Important: distributed and 16-bits training is currently not implemented! \n"
     ]
    },
    {
     "name": "stderr",
     "output_type": "stream",
     "text": [
      "\n",
      "Test:   0%|          | 0/2 [00:00<?, ?it/s]\u001B[A\n",
      "Test:  50%|█████     | 1/2 [00:01<00:01,  1.72s/it]\u001B[A\n",
      "Test: 100%|██████████| 2/2 [00:02<00:00,  1.29s/it]\u001B[A"
     ]
    },
    {
     "name": "stdout",
     "output_type": "stream",
     "text": [
      "We use the device: 'cpu' and 0 gpu's. Important: distributed and 16-bits training is currently not implemented! \n"
     ]
    },
    {
     "name": "stderr",
     "output_type": "stream",
     "text": [
      "\n",
      "\n",
      "Test:   0%|          | 0/1 [00:00<?, ?it/s]\u001B[A\n",
      "Test: 100%|██████████| 1/1 [00:01<00:00,  1.26s/it]\u001B[A\n",
      " 51%|█████     | 51/100 [03:23<03:18,  4.06s/it]"
     ]
    },
    {
     "name": "stdout",
     "output_type": "stream",
     "text": [
      "We use the device: 'cpu' and 0 gpu's. Important: distributed and 16-bits training is currently not implemented! \n"
     ]
    },
    {
     "name": "stderr",
     "output_type": "stream",
     "text": [
      "\n",
      "Test:   0%|          | 0/2 [00:00<?, ?it/s]\u001B[A\n",
      "Test:  50%|█████     | 1/2 [00:01<00:01,  1.70s/it]\u001B[A\n",
      "Test: 100%|██████████| 2/2 [00:02<00:00,  1.30s/it]\u001B[A"
     ]
    },
    {
     "name": "stdout",
     "output_type": "stream",
     "text": [
      "We use the device: 'cpu' and 0 gpu's. Important: distributed and 16-bits training is currently not implemented! \n"
     ]
    },
    {
     "name": "stderr",
     "output_type": "stream",
     "text": [
      "\n",
      "\n",
      "Test:   0%|          | 0/1 [00:00<?, ?it/s]\u001B[A\n",
      "Test: 100%|██████████| 1/1 [00:01<00:00,  1.58s/it]\u001B[A\n",
      " 52%|█████▏    | 52/100 [03:27<03:17,  4.12s/it]"
     ]
    },
    {
     "name": "stdout",
     "output_type": "stream",
     "text": [
      "We use the device: 'cpu' and 0 gpu's. Important: distributed and 16-bits training is currently not implemented! \n"
     ]
    },
    {
     "name": "stderr",
     "output_type": "stream",
     "text": [
      "\n",
      "Test:   0%|          | 0/2 [00:00<?, ?it/s]\u001B[A\n",
      "Test:  50%|█████     | 1/2 [00:01<00:01,  1.73s/it]\u001B[A\n",
      "Test: 100%|██████████| 2/2 [00:02<00:00,  1.30s/it]\u001B[A"
     ]
    },
    {
     "name": "stdout",
     "output_type": "stream",
     "text": [
      "We use the device: 'cpu' and 0 gpu's. Important: distributed and 16-bits training is currently not implemented! \n"
     ]
    },
    {
     "name": "stderr",
     "output_type": "stream",
     "text": [
      "\n",
      "\n",
      "Test:   0%|          | 0/1 [00:00<?, ?it/s]\u001B[A\n",
      "Test: 100%|██████████| 1/1 [00:01<00:00,  1.28s/it]\u001B[A\n",
      " 53%|█████▎    | 53/100 [03:31<03:11,  4.08s/it]"
     ]
    },
    {
     "name": "stdout",
     "output_type": "stream",
     "text": [
      "We use the device: 'cpu' and 0 gpu's. Important: distributed and 16-bits training is currently not implemented! \n"
     ]
    },
    {
     "name": "stderr",
     "output_type": "stream",
     "text": [
      "\n",
      "Test:   0%|          | 0/2 [00:00<?, ?it/s]\u001B[A\n",
      "Test:  50%|█████     | 1/2 [00:01<00:01,  1.70s/it]\u001B[A\n",
      "Test: 100%|██████████| 2/2 [00:02<00:00,  1.27s/it]\u001B[A"
     ]
    },
    {
     "name": "stdout",
     "output_type": "stream",
     "text": [
      "We use the device: 'cpu' and 0 gpu's. Important: distributed and 16-bits training is currently not implemented! \n"
     ]
    },
    {
     "name": "stderr",
     "output_type": "stream",
     "text": [
      "\n",
      "\n",
      "Test:   0%|          | 0/1 [00:00<?, ?it/s]\u001B[A\n",
      "Test: 100%|██████████| 1/1 [00:01<00:00,  1.25s/it]\u001B[A\n",
      " 54%|█████▍    | 54/100 [03:35<03:05,  4.03s/it]"
     ]
    },
    {
     "name": "stdout",
     "output_type": "stream",
     "text": [
      "We use the device: 'cpu' and 0 gpu's. Important: distributed and 16-bits training is currently not implemented! \n"
     ]
    },
    {
     "name": "stderr",
     "output_type": "stream",
     "text": [
      "\n",
      "Test:   0%|          | 0/2 [00:00<?, ?it/s]\u001B[A\n",
      "Test:  50%|█████     | 1/2 [00:01<00:01,  1.80s/it]\u001B[A\n",
      "Test: 100%|██████████| 2/2 [00:02<00:00,  1.38s/it]\u001B[A"
     ]
    },
    {
     "name": "stdout",
     "output_type": "stream",
     "text": [
      "We use the device: 'cpu' and 0 gpu's. Important: distributed and 16-bits training is currently not implemented! \n"
     ]
    },
    {
     "name": "stderr",
     "output_type": "stream",
     "text": [
      "\n",
      "\n",
      "Test:   0%|          | 0/1 [00:00<?, ?it/s]\u001B[A\n",
      "Test: 100%|██████████| 1/1 [00:01<00:00,  1.31s/it]\u001B[A\n",
      " 55%|█████▌    | 55/100 [03:39<03:03,  4.08s/it]"
     ]
    },
    {
     "name": "stdout",
     "output_type": "stream",
     "text": [
      "We use the device: 'cpu' and 0 gpu's. Important: distributed and 16-bits training is currently not implemented! \n"
     ]
    },
    {
     "name": "stderr",
     "output_type": "stream",
     "text": [
      "\n",
      "Test:   0%|          | 0/2 [00:00<?, ?it/s]\u001B[A\n",
      "Test:  50%|█████     | 1/2 [00:01<00:01,  1.72s/it]\u001B[A\n",
      "Test: 100%|██████████| 2/2 [00:02<00:00,  1.29s/it]\u001B[A"
     ]
    },
    {
     "name": "stdout",
     "output_type": "stream",
     "text": [
      "We use the device: 'cpu' and 0 gpu's. Important: distributed and 16-bits training is currently not implemented! \n"
     ]
    },
    {
     "name": "stderr",
     "output_type": "stream",
     "text": [
      "\n",
      "\n",
      "Test:   0%|          | 0/1 [00:00<?, ?it/s]\u001B[A\n",
      "Test: 100%|██████████| 1/1 [00:01<00:00,  1.30s/it]\u001B[A\n",
      " 56%|█████▌    | 56/100 [03:43<02:58,  4.05s/it]"
     ]
    },
    {
     "name": "stdout",
     "output_type": "stream",
     "text": [
      "We use the device: 'cpu' and 0 gpu's. Important: distributed and 16-bits training is currently not implemented! \n"
     ]
    },
    {
     "name": "stderr",
     "output_type": "stream",
     "text": [
      "\n",
      "Test:   0%|          | 0/2 [00:00<?, ?it/s]\u001B[A\n",
      "Test:  50%|█████     | 1/2 [00:01<00:01,  1.75s/it]\u001B[A\n",
      "Test: 100%|██████████| 2/2 [00:02<00:00,  1.31s/it]\u001B[A"
     ]
    },
    {
     "name": "stdout",
     "output_type": "stream",
     "text": [
      "We use the device: 'cpu' and 0 gpu's. Important: distributed and 16-bits training is currently not implemented! \n"
     ]
    },
    {
     "name": "stderr",
     "output_type": "stream",
     "text": [
      "\n",
      "\n",
      "Test:   0%|          | 0/1 [00:00<?, ?it/s]\u001B[A\n",
      "Test: 100%|██████████| 1/1 [00:01<00:00,  1.27s/it]\u001B[A\n",
      " 57%|█████▋    | 57/100 [03:47<02:53,  4.04s/it]"
     ]
    },
    {
     "name": "stdout",
     "output_type": "stream",
     "text": [
      "We use the device: 'cpu' and 0 gpu's. Important: distributed and 16-bits training is currently not implemented! \n"
     ]
    },
    {
     "name": "stderr",
     "output_type": "stream",
     "text": [
      "\n",
      "Test:   0%|          | 0/2 [00:00<?, ?it/s]\u001B[A\n",
      "Test:  50%|█████     | 1/2 [00:01<00:01,  1.71s/it]\u001B[A\n",
      "Test: 100%|██████████| 2/2 [00:02<00:00,  1.28s/it]\u001B[A"
     ]
    },
    {
     "name": "stdout",
     "output_type": "stream",
     "text": [
      "We use the device: 'cpu' and 0 gpu's. Important: distributed and 16-bits training is currently not implemented! \n"
     ]
    },
    {
     "name": "stderr",
     "output_type": "stream",
     "text": [
      "\n",
      "\n",
      "Test:   0%|          | 0/1 [00:00<?, ?it/s]\u001B[A\n",
      "Test: 100%|██████████| 1/1 [00:01<00:00,  1.26s/it]\u001B[A\n",
      " 58%|█████▊    | 58/100 [03:51<02:48,  4.01s/it]"
     ]
    },
    {
     "name": "stdout",
     "output_type": "stream",
     "text": [
      "We use the device: 'cpu' and 0 gpu's. Important: distributed and 16-bits training is currently not implemented! \n"
     ]
    },
    {
     "name": "stderr",
     "output_type": "stream",
     "text": [
      "\n",
      "Test:   0%|          | 0/2 [00:00<?, ?it/s]\u001B[A\n",
      "Test:  50%|█████     | 1/2 [00:01<00:01,  1.70s/it]\u001B[A\n",
      "Test: 100%|██████████| 2/2 [00:02<00:00,  1.27s/it]\u001B[A"
     ]
    },
    {
     "name": "stdout",
     "output_type": "stream",
     "text": [
      "We use the device: 'cpu' and 0 gpu's. Important: distributed and 16-bits training is currently not implemented! \n"
     ]
    },
    {
     "name": "stderr",
     "output_type": "stream",
     "text": [
      "\n",
      "\n",
      "Test:   0%|          | 0/1 [00:00<?, ?it/s]\u001B[A\n",
      "Test: 100%|██████████| 1/1 [00:01<00:00,  1.25s/it]\u001B[A\n",
      " 59%|█████▉    | 59/100 [03:55<02:43,  3.98s/it]"
     ]
    },
    {
     "name": "stdout",
     "output_type": "stream",
     "text": [
      "We use the device: 'cpu' and 0 gpu's. Important: distributed and 16-bits training is currently not implemented! \n"
     ]
    },
    {
     "name": "stderr",
     "output_type": "stream",
     "text": [
      "\n",
      "Test:   0%|          | 0/2 [00:00<?, ?it/s]\u001B[A\n",
      "Test:  50%|█████     | 1/2 [00:01<00:01,  1.71s/it]\u001B[A\n",
      "Test: 100%|██████████| 2/2 [00:02<00:00,  1.28s/it]\u001B[A"
     ]
    },
    {
     "name": "stdout",
     "output_type": "stream",
     "text": [
      "We use the device: 'cpu' and 0 gpu's. Important: distributed and 16-bits training is currently not implemented! \n"
     ]
    },
    {
     "name": "stderr",
     "output_type": "stream",
     "text": [
      "\n",
      "\n",
      "Test:   0%|          | 0/1 [00:00<?, ?it/s]\u001B[A\n",
      "Test: 100%|██████████| 1/1 [00:01<00:00,  1.27s/it]\u001B[A\n",
      " 60%|██████    | 60/100 [03:59<02:38,  3.97s/it]"
     ]
    },
    {
     "name": "stdout",
     "output_type": "stream",
     "text": [
      "We use the device: 'cpu' and 0 gpu's. Important: distributed and 16-bits training is currently not implemented! \n"
     ]
    },
    {
     "name": "stderr",
     "output_type": "stream",
     "text": [
      "\n",
      "Test:   0%|          | 0/2 [00:00<?, ?it/s]\u001B[A\n",
      "Test:  50%|█████     | 1/2 [00:01<00:01,  1.71s/it]\u001B[A\n",
      "Test: 100%|██████████| 2/2 [00:02<00:00,  1.28s/it]\u001B[A"
     ]
    },
    {
     "name": "stdout",
     "output_type": "stream",
     "text": [
      "We use the device: 'cpu' and 0 gpu's. Important: distributed and 16-bits training is currently not implemented! \n"
     ]
    },
    {
     "name": "stderr",
     "output_type": "stream",
     "text": [
      "\n",
      "\n",
      "Test:   0%|          | 0/1 [00:00<?, ?it/s]\u001B[A\n",
      "Test: 100%|██████████| 1/1 [00:01<00:00,  1.26s/it]\u001B[A\n",
      " 61%|██████    | 61/100 [04:03<02:34,  3.96s/it]"
     ]
    },
    {
     "name": "stdout",
     "output_type": "stream",
     "text": [
      "We use the device: 'cpu' and 0 gpu's. Important: distributed and 16-bits training is currently not implemented! \n"
     ]
    },
    {
     "name": "stderr",
     "output_type": "stream",
     "text": [
      "\n",
      "Test:   0%|          | 0/2 [00:00<?, ?it/s]\u001B[A\n",
      "Test:  50%|█████     | 1/2 [00:01<00:01,  1.70s/it]\u001B[A\n",
      "Test: 100%|██████████| 2/2 [00:02<00:00,  1.28s/it]\u001B[A"
     ]
    },
    {
     "name": "stdout",
     "output_type": "stream",
     "text": [
      "We use the device: 'cpu' and 0 gpu's. Important: distributed and 16-bits training is currently not implemented! \n"
     ]
    },
    {
     "name": "stderr",
     "output_type": "stream",
     "text": [
      "\n",
      "\n",
      "Test:   0%|          | 0/1 [00:00<?, ?it/s]\u001B[A\n",
      "Test: 100%|██████████| 1/1 [00:01<00:00,  1.27s/it]\u001B[A\n",
      " 62%|██████▏   | 62/100 [04:07<02:30,  3.95s/it]"
     ]
    },
    {
     "name": "stdout",
     "output_type": "stream",
     "text": [
      "We use the device: 'cpu' and 0 gpu's. Important: distributed and 16-bits training is currently not implemented! \n"
     ]
    },
    {
     "name": "stderr",
     "output_type": "stream",
     "text": [
      "\n",
      "Test:   0%|          | 0/2 [00:00<?, ?it/s]\u001B[A\n",
      "Test:  50%|█████     | 1/2 [00:01<00:01,  1.73s/it]\u001B[A\n",
      "Test: 100%|██████████| 2/2 [00:02<00:00,  1.31s/it]\u001B[A"
     ]
    },
    {
     "name": "stdout",
     "output_type": "stream",
     "text": [
      "We use the device: 'cpu' and 0 gpu's. Important: distributed and 16-bits training is currently not implemented! \n"
     ]
    },
    {
     "name": "stderr",
     "output_type": "stream",
     "text": [
      "\n",
      "\n",
      "Test:   0%|          | 0/1 [00:00<?, ?it/s]\u001B[A\n",
      "Test: 100%|██████████| 1/1 [00:01<00:00,  1.32s/it]\u001B[A\n",
      " 63%|██████▎   | 63/100 [04:11<02:27,  3.98s/it]"
     ]
    },
    {
     "name": "stdout",
     "output_type": "stream",
     "text": [
      "We use the device: 'cpu' and 0 gpu's. Important: distributed and 16-bits training is currently not implemented! \n"
     ]
    },
    {
     "name": "stderr",
     "output_type": "stream",
     "text": [
      "\n",
      "Test:   0%|          | 0/2 [00:00<?, ?it/s]\u001B[A\n",
      "Test:  50%|█████     | 1/2 [00:01<00:01,  1.72s/it]\u001B[A\n",
      "Test: 100%|██████████| 2/2 [00:02<00:00,  1.29s/it]\u001B[A"
     ]
    },
    {
     "name": "stdout",
     "output_type": "stream",
     "text": [
      "We use the device: 'cpu' and 0 gpu's. Important: distributed and 16-bits training is currently not implemented! \n"
     ]
    },
    {
     "name": "stderr",
     "output_type": "stream",
     "text": [
      "\n",
      "\n",
      "Test:   0%|          | 0/1 [00:00<?, ?it/s]\u001B[A\n",
      "Test: 100%|██████████| 1/1 [00:01<00:00,  1.29s/it]\u001B[A\n",
      " 64%|██████▍   | 64/100 [04:15<02:23,  3.98s/it]"
     ]
    },
    {
     "name": "stdout",
     "output_type": "stream",
     "text": [
      "We use the device: 'cpu' and 0 gpu's. Important: distributed and 16-bits training is currently not implemented! \n"
     ]
    },
    {
     "name": "stderr",
     "output_type": "stream",
     "text": [
      "\n",
      "Test:   0%|          | 0/2 [00:00<?, ?it/s]\u001B[A\n",
      "Test:  50%|█████     | 1/2 [00:01<00:01,  1.70s/it]\u001B[A\n",
      "Test: 100%|██████████| 2/2 [00:02<00:00,  1.27s/it]\u001B[A"
     ]
    },
    {
     "name": "stdout",
     "output_type": "stream",
     "text": [
      "We use the device: 'cpu' and 0 gpu's. Important: distributed and 16-bits training is currently not implemented! \n"
     ]
    },
    {
     "name": "stderr",
     "output_type": "stream",
     "text": [
      "\n",
      "\n",
      "Test:   0%|          | 0/1 [00:00<?, ?it/s]\u001B[A\n",
      "Test: 100%|██████████| 1/1 [00:01<00:00,  1.30s/it]\u001B[A\n",
      " 65%|██████▌   | 65/100 [04:19<02:19,  3.98s/it]"
     ]
    },
    {
     "name": "stdout",
     "output_type": "stream",
     "text": [
      "We use the device: 'cpu' and 0 gpu's. Important: distributed and 16-bits training is currently not implemented! \n"
     ]
    },
    {
     "name": "stderr",
     "output_type": "stream",
     "text": [
      "\n",
      "Test:   0%|          | 0/2 [00:00<?, ?it/s]\u001B[A\n",
      "Test:  50%|█████     | 1/2 [00:01<00:01,  1.71s/it]\u001B[A"
     ]
    }
   ],
   "source": [
    "explanation, flipped_pred, triangles = triangles_method.explainSamples(local_samples,\n",
    "                                                      [pd.concat([lsource, gright_df]),\n",
    "                                                       pd.concat([rsource, gleft_df])],\n",
    "                                                      model, predict_fn, predicted_class,\n",
    "                                                      2, False, discard_bad=False)\n",
    "explanation"
   ],
   "metadata": {
    "collapsed": false,
    "pycharm": {
     "name": "#%%\n",
     "is_executing": true
    }
   }
  }
 ],
 "metadata": {
  "kernelspec": {
   "display_name": "Python 3",
   "language": "python",
   "name": "python3"
  },
  "language_info": {
   "codemirror_mode": {
    "name": "ipython",
    "version": 2
   },
   "file_extension": ".py",
   "mimetype": "text/x-python",
   "name": "python",
   "nbconvert_exporter": "python",
   "pygments_lexer": "ipython2",
   "version": "2.7.6"
  }
 },
 "nbformat": 4,
 "nbformat_minor": 0
}